{
 "cells": [
  {
   "cell_type": "markdown",
   "metadata": {},
   "source": [
    "# 빅콘테스트 퓨처스리그 : KBO 정규시즌 팀별 승률, 타율, 방어율 예측"
   ]
  },
  {
   "cell_type": "markdown",
   "metadata": {},
   "source": [
    "2020.08.15 토요일 김채형"
   ]
  },
  {
   "cell_type": "markdown",
   "metadata": {},
   "source": [
    "# Crawling"
   ]
  },
  {
   "cell_type": "code",
   "execution_count": null,
   "metadata": {},
   "outputs": [],
   "source": [
    "from bs4 import BeautifulSoup\n",
    "import requests\n",
    "import pandas as pd\n",
    "import re"
   ]
  },
  {
   "cell_type": "code",
   "execution_count": null,
   "metadata": {},
   "outputs": [],
   "source": [
    "# 7월 데이터 크롤링\n",
    "url = 'https://sports.news.naver.com/kbaseball/schedule/index.nhn?month=07&year=2020'\n",
    "req = requests.get(url)\n",
    "html = req.text"
   ]
  },
  {
   "cell_type": "code",
   "execution_count": null,
   "metadata": {},
   "outputs": [],
   "source": [
    "table_july = pd.read_html(html)\n",
    "table_july"
   ]
  },
  {
   "cell_type": "code",
   "execution_count": null,
   "metadata": {},
   "outputs": [],
   "source": [
    "# 8월 데이터 크롤링\n",
    "url = 'https://sports.news.naver.com/kbaseball/schedule/index.nhn?month=08&year=2020'\n",
    "req = requests.get(url)\n",
    "html = req.text"
   ]
  },
  {
   "cell_type": "code",
   "execution_count": null,
   "metadata": {},
   "outputs": [],
   "source": [
    "table_august = pd.read_html(html)\n",
    "table_august"
   ]
  },
  {
   "cell_type": "code",
   "execution_count": null,
   "metadata": {},
   "outputs": [],
   "source": [
    "table_july[0]"
   ]
  },
  {
   "cell_type": "code",
   "execution_count": null,
   "metadata": {},
   "outputs": [],
   "source": [
    "table_august[0]"
   ]
  },
  {
   "cell_type": "code",
   "execution_count": null,
   "metadata": {},
   "outputs": [],
   "source": [
    "table_july[1]"
   ]
  },
  {
   "cell_type": "code",
   "execution_count": null,
   "metadata": {},
   "outputs": [],
   "source": [
    "table_august[2]"
   ]
  },
  {
   "cell_type": "code",
   "execution_count": null,
   "metadata": {},
   "outputs": [],
   "source": [
    "# 데이터프레임 생성\n",
    "df = pd.DataFrame()\n",
    "for i in range(1, len(table_july)):\n",
    "    df = df.append(table_july[i])\n",
    "for i in range(1, len(table_august)):\n",
    "    df = df.append(table_august[i])"
   ]
  },
  {
   "cell_type": "code",
   "execution_count": null,
   "metadata": {},
   "outputs": [],
   "source": [
    "df"
   ]
  },
  {
   "cell_type": "code",
   "execution_count": null,
   "metadata": {},
   "outputs": [],
   "source": [
    "df.columns = ['날짜', '시간', '경기', '중계/기록', '중계방송사', '구장', '알림받기']\n",
    "df"
   ]
  },
  {
   "cell_type": "code",
   "execution_count": null,
   "metadata": {},
   "outputs": [],
   "source": [
    "df.drop(df.tail(1).index, inplace=True) # 필요없는 행 삭제\n",
    "df.drop(['시간', '중계/기록', '중계방송사', '알림받기'], axis=1, inplace=True) # 필요없는 열 삭제\n",
    "df.reset_index(drop=True, inplace=True) # 인덱스 리셋\n",
    "df"
   ]
  },
  {
   "cell_type": "code",
   "execution_count": null,
   "metadata": {},
   "outputs": [],
   "source": [
    "# 연 컬럼 생성\n",
    "year = [2020 for _ in range(len(df['날짜']))]\n",
    "df['year'] = year"
   ]
  },
  {
   "cell_type": "code",
   "execution_count": null,
   "metadata": {},
   "outputs": [],
   "source": [
    "# 월 컬럼 생성\n",
    "month = []\n",
    "day = []\n",
    "for i in range(len(df['날짜'])):\n",
    "    string = df.loc[i, '날짜']\n",
    "    pattern = re.compile('\\(.\\)')\n",
    "    ls = re.sub(pattern, '', string).split('.')\n",
    "    month.append(int(ls[0].strip()))\n",
    "    day.append(int(ls[1].strip()))\n",
    "\n",
    "df['month'] = month\n",
    "df['day'] = day"
   ]
  },
  {
   "cell_type": "code",
   "execution_count": null,
   "metadata": {},
   "outputs": [],
   "source": [
    "# 날짜 컬럼 삭제\n",
    "df.drop('날짜', axis=1, inplace=True)"
   ]
  },
  {
   "cell_type": "code",
   "execution_count": null,
   "metadata": {},
   "outputs": [],
   "source": [
    "df"
   ]
  },
  {
   "cell_type": "code",
   "execution_count": null,
   "metadata": {},
   "outputs": [],
   "source": [
    "df['경기'].unique()"
   ]
  },
  {
   "cell_type": "code",
   "execution_count": null,
   "metadata": {},
   "outputs": [],
   "source": [
    "# 텍스트 전처리 함수 선언\n",
    "def cleanText(string):\n",
    "    pattern = re.compile('경기취소')\n",
    "    string = re.sub(pattern, '', string)\n",
    "    pattern = re.compile('\\d+:\\d+')\n",
    "    string = re.sub(pattern, 'VS', string)\n",
    "    return string"
   ]
  },
  {
   "cell_type": "code",
   "execution_count": null,
   "metadata": {},
   "outputs": [],
   "source": [
    "# 왼쪽 팀, 오른쪽 팀 컬럼 생성\n",
    "team_lft = []\n",
    "team_rht = []\n",
    "for i in range(len(df['경기'])):\n",
    "    a = df.loc[i, '경기']\n",
    "    a = cleanText(a)\n",
    "    teams = a.split('VS')\n",
    "    team_lft.append(teams[0].strip())\n",
    "    team_rht.append(teams[1].strip())\n",
    "\n",
    "# 데이터프레임에 컬럼 추가\n",
    "df['team_lft'] = team_lft\n",
    "df['team_rht'] = team_rht\n",
    "\n",
    "# 경기 컬럼 삭제\n",
    "df.drop('경기', axis=1, inplace=True)"
   ]
  },
  {
   "cell_type": "code",
   "execution_count": null,
   "metadata": {},
   "outputs": [],
   "source": [
    "# 컬럼 순서 변경\n",
    "df = df.reindex(columns=['year', 'month', 'day', 'team_lft', 'team_rht', '구장'])\n",
    "df"
   ]
  },
  {
   "cell_type": "code",
   "execution_count": null,
   "metadata": {},
   "outputs": [],
   "source": [
    "df.info()"
   ]
  },
  {
   "cell_type": "code",
   "execution_count": null,
   "metadata": {},
   "outputs": [],
   "source": [
    "df.to_csv('../../data/kbo_schedule.csv')"
   ]
  },
  {
   "cell_type": "markdown",
   "metadata": {},
   "source": [
    "---- 코드 쓰레기 ----"
   ]
  },
  {
   "cell_type": "code",
   "execution_count": null,
   "metadata": {},
   "outputs": [],
   "source": [
    "from bs4 import BeautifulSoup\n",
    "#from html_table_parser import parser_functions as parser\n",
    "\n",
    "import requests\n",
    "import pandas as pd\n",
    "\n",
    "import re"
   ]
  },
  {
   "cell_type": "code",
   "execution_count": null,
   "metadata": {},
   "outputs": [],
   "source": [
    "url = 'https://sports.news.naver.com/kbaseball/schedule/index.nhn'\n",
    "req = requests.get(url)\n",
    "soup = BeautifulSoup(req.content, 'html.parser')  "
   ]
  },
  {
   "cell_type": "code",
   "execution_count": null,
   "metadata": {},
   "outputs": [],
   "source": [
    "soup.select('#calendarWrap')"
   ]
  },
  {
   "cell_type": "code",
   "execution_count": null,
   "metadata": {},
   "outputs": [],
   "source": [
    "# 날짜\n",
    "a = soup.select('#calendarWrap > div > table > tbody > tr > td > span.td_date')\n",
    "len(a)"
   ]
  },
  {
   "cell_type": "code",
   "execution_count": null,
   "metadata": {},
   "outputs": [],
   "source": [
    "# 왼쪽 팀\n",
    "a = soup.select('#calendarWrap > div > table > tbody > tr > td > span.team_lft')\n",
    "print(a[:5])\n",
    "len(a)"
   ]
  },
  {
   "cell_type": "code",
   "execution_count": null,
   "metadata": {},
   "outputs": [],
   "source": [
    "# 오른쪽 팀\n",
    "a = soup.select('#calendarWrap > div > table > tbody > tr > td > span.team_rgt')\n",
    "print(a[:5])\n",
    "len(a)"
   ]
  },
  {
   "cell_type": "code",
   "execution_count": null,
   "metadata": {},
   "outputs": [],
   "source": [
    "# 구장\n",
    "a = soup.select('#calendarWrap > div > table > tbody > tr > td > span.td_stadium')\n",
    "a\n",
    "len(a)"
   ]
  },
  {
   "cell_type": "code",
   "execution_count": null,
   "metadata": {},
   "outputs": [],
   "source": [
    "table = soup.find_all('div', {'class': 'tb_wrap'})\n",
    "print(table)"
   ]
  },
  {
   "cell_type": "code",
   "execution_count": null,
   "metadata": {},
   "outputs": [],
   "source": [
    "columns=soup.select(‘div.table-responsive > table > thead > tr > th’)"
   ]
  },
  {
   "cell_type": "code",
   "execution_count": null,
   "metadata": {},
   "outputs": [],
   "source": [
    "a = soup.select('#calendarWrap > div > table > tbody > tr > td > span.team_lft')\n",
    "#print(a)\n",
    "len(a)"
   ]
  },
  {
   "cell_type": "code",
   "execution_count": null,
   "metadata": {},
   "outputs": [],
   "source": [
    "a = soup.select('#calendarWrap > div.sch_tb')"
   ]
  },
  {
   "cell_type": "code",
   "execution_count": null,
   "metadata": {},
   "outputs": [],
   "source": [
    "soup.select('#calendarWrap > div > table > tbody')"
   ]
  },
  {
   "cell_type": "code",
   "execution_count": null,
   "metadata": {},
   "outputs": [],
   "source": [
    "import requests\n",
    "\n",
    "## HTTP GET Request\n",
    "req = requests.get('https://www.koreabaseball.com/Schedule/Schedule.aspx')\n",
    "\n",
    "## HTML 소스 가져오기\n",
    "html = req.text\n",
    "## HTTP Header 가져오기\n",
    "header = req.headers\n",
    "## HTTP Status 가져오기 (200: 정상)\n",
    "status = req.status_code\n",
    "## HTTP가 정상적으로 되었는지 (True/False)\n",
    "is_ok = req.ok"
   ]
  },
  {
   "cell_type": "code",
   "execution_count": null,
   "metadata": {},
   "outputs": [],
   "source": [
    "print(is_ok)"
   ]
  },
  {
   "cell_type": "code",
   "execution_count": null,
   "metadata": {},
   "outputs": [],
   "source": [
    "html = req.text\n",
    "soup = BeautifulSoup(html, 'html.parser')\n",
    "print(soup)"
   ]
  },
  {
   "cell_type": "code",
   "execution_count": null,
   "metadata": {},
   "outputs": [],
   "source": [
    "soup.select('#tblSchedule > tbody')\n",
    "#soup.select('table').text()"
   ]
  },
  {
   "cell_type": "code",
   "execution_count": null,
   "metadata": {},
   "outputs": [],
   "source": [
    "soup.find('table').text()"
   ]
  }
 ],
 "metadata": {
  "kernelspec": {
   "display_name": "Python 3",
   "language": "python",
   "name": "python3"
  },
  "language_info": {
   "codemirror_mode": {
    "name": "ipython",
    "version": 3
   },
   "file_extension": ".py",
   "mimetype": "text/x-python",
   "name": "python",
   "nbconvert_exporter": "python",
   "pygments_lexer": "ipython3",
   "version": "3.7.2"
  }
 },
 "nbformat": 4,
 "nbformat_minor": 4
}
