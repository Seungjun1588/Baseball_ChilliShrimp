{
 "cells": [
  {
   "cell_type": "markdown",
   "metadata": {},
   "source": [
    "# 빅콘테스트 퓨처스리그 : KBO 정규시즌 팀별 승률, 타율, 방어율 예측"
   ]
  },
  {
   "cell_type": "markdown",
   "metadata": {},
   "source": [
    "2020.08.21 김채형"
   ]
  },
  {
   "cell_type": "markdown",
   "metadata": {},
   "source": [
    "# Modeling :: RandomForest"
   ]
  },
  {
   "cell_type": "code",
   "execution_count": 1,
   "metadata": {},
   "outputs": [],
   "source": [
    "import pandas as pd\n",
    "import seaborn as sns\n",
    "import matplotlib.pyplot as plt\n",
    "%matplotlib inline\n",
    "\n",
    "from sklearn.model_selection import train_test_split\n",
    "from sklearn.ensemble import RandomForestRegressor\n",
    "from sklearn.metrics import mean_squared_error"
   ]
  },
  {
   "cell_type": "markdown",
   "metadata": {},
   "source": [
    "## batter"
   ]
  },
  {
   "cell_type": "code",
   "execution_count": 2,
   "metadata": {},
   "outputs": [
    {
     "data": {
      "text/html": [
       "<div>\n",
       "<style scoped>\n",
       "    .dataframe tbody tr th:only-of-type {\n",
       "        vertical-align: middle;\n",
       "    }\n",
       "\n",
       "    .dataframe tbody tr th {\n",
       "        vertical-align: top;\n",
       "    }\n",
       "\n",
       "    .dataframe thead th {\n",
       "        text-align: right;\n",
       "    }\n",
       "</style>\n",
       "<table border=\"1\" class=\"dataframe\">\n",
       "  <thead>\n",
       "    <tr style=\"text-align: right;\">\n",
       "      <th></th>\n",
       "      <th>PA</th>\n",
       "      <th>BB_rate</th>\n",
       "      <th>HR_rate</th>\n",
       "      <th>AVG</th>\n",
       "      <th>OBP</th>\n",
       "      <th>SLG</th>\n",
       "      <th>OPS</th>\n",
       "      <th>XR</th>\n",
       "      <th>SB_rate</th>\n",
       "      <th>BABIP</th>\n",
       "      <th>H2_rate</th>\n",
       "      <th>H3_rate</th>\n",
       "    </tr>\n",
       "  </thead>\n",
       "  <tbody>\n",
       "    <tr>\n",
       "      <th>1</th>\n",
       "      <td>12</td>\n",
       "      <td>0.000000</td>\n",
       "      <td>0.000000</td>\n",
       "      <td>0.166667</td>\n",
       "      <td>0.166667</td>\n",
       "      <td>0.166667</td>\n",
       "      <td>0.333333</td>\n",
       "      <td>0.076</td>\n",
       "      <td>0.000000</td>\n",
       "      <td>0.142857</td>\n",
       "      <td>0.000000</td>\n",
       "      <td>0.0</td>\n",
       "    </tr>\n",
       "    <tr>\n",
       "      <th>2</th>\n",
       "      <td>10</td>\n",
       "      <td>0.100000</td>\n",
       "      <td>0.000000</td>\n",
       "      <td>0.333333</td>\n",
       "      <td>0.400000</td>\n",
       "      <td>0.444444</td>\n",
       "      <td>0.844444</td>\n",
       "      <td>1.020</td>\n",
       "      <td>0.000000</td>\n",
       "      <td>0.380952</td>\n",
       "      <td>0.333333</td>\n",
       "      <td>0.0</td>\n",
       "    </tr>\n",
       "    <tr>\n",
       "      <th>3</th>\n",
       "      <td>0</td>\n",
       "      <td>0.000000</td>\n",
       "      <td>0.000000</td>\n",
       "      <td>0.000000</td>\n",
       "      <td>0.000000</td>\n",
       "      <td>0.000000</td>\n",
       "      <td>0.000000</td>\n",
       "      <td>0.000</td>\n",
       "      <td>0.000000</td>\n",
       "      <td>0.000000</td>\n",
       "      <td>0.000000</td>\n",
       "      <td>0.0</td>\n",
       "    </tr>\n",
       "    <tr>\n",
       "      <th>4</th>\n",
       "      <td>1</td>\n",
       "      <td>1.000000</td>\n",
       "      <td>0.000000</td>\n",
       "      <td>0.000000</td>\n",
       "      <td>1.000000</td>\n",
       "      <td>0.000000</td>\n",
       "      <td>1.000000</td>\n",
       "      <td>0.340</td>\n",
       "      <td>0.000000</td>\n",
       "      <td>0.260870</td>\n",
       "      <td>0.000000</td>\n",
       "      <td>0.0</td>\n",
       "    </tr>\n",
       "    <tr>\n",
       "      <th>5</th>\n",
       "      <td>36</td>\n",
       "      <td>0.111111</td>\n",
       "      <td>0.166667</td>\n",
       "      <td>0.193548</td>\n",
       "      <td>0.305556</td>\n",
       "      <td>0.322581</td>\n",
       "      <td>0.628136</td>\n",
       "      <td>2.444</td>\n",
       "      <td>0.533333</td>\n",
       "      <td>0.309133</td>\n",
       "      <td>0.166667</td>\n",
       "      <td>0.0</td>\n",
       "    </tr>\n",
       "    <tr>\n",
       "      <th>...</th>\n",
       "      <td>...</td>\n",
       "      <td>...</td>\n",
       "      <td>...</td>\n",
       "      <td>...</td>\n",
       "      <td>...</td>\n",
       "      <td>...</td>\n",
       "      <td>...</td>\n",
       "      <td>...</td>\n",
       "      <td>...</td>\n",
       "      <td>...</td>\n",
       "      <td>...</td>\n",
       "      <td>...</td>\n",
       "    </tr>\n",
       "    <tr>\n",
       "      <th>6930</th>\n",
       "      <td>5</td>\n",
       "      <td>0.000000</td>\n",
       "      <td>0.000000</td>\n",
       "      <td>0.200000</td>\n",
       "      <td>0.200000</td>\n",
       "      <td>0.400000</td>\n",
       "      <td>0.600000</td>\n",
       "      <td>0.344</td>\n",
       "      <td>0.000000</td>\n",
       "      <td>0.290323</td>\n",
       "      <td>1.000000</td>\n",
       "      <td>0.0</td>\n",
       "    </tr>\n",
       "    <tr>\n",
       "      <th>6931</th>\n",
       "      <td>67</td>\n",
       "      <td>0.134328</td>\n",
       "      <td>0.400000</td>\n",
       "      <td>0.263158</td>\n",
       "      <td>0.358209</td>\n",
       "      <td>0.596491</td>\n",
       "      <td>0.954700</td>\n",
       "      <td>11.212</td>\n",
       "      <td>0.000000</td>\n",
       "      <td>0.326748</td>\n",
       "      <td>0.066667</td>\n",
       "      <td>0.0</td>\n",
       "    </tr>\n",
       "    <tr>\n",
       "      <th>6932</th>\n",
       "      <td>78</td>\n",
       "      <td>0.115385</td>\n",
       "      <td>0.050000</td>\n",
       "      <td>0.294118</td>\n",
       "      <td>0.371795</td>\n",
       "      <td>0.441176</td>\n",
       "      <td>0.812971</td>\n",
       "      <td>11.812</td>\n",
       "      <td>0.745098</td>\n",
       "      <td>0.349434</td>\n",
       "      <td>0.150000</td>\n",
       "      <td>0.1</td>\n",
       "    </tr>\n",
       "    <tr>\n",
       "      <th>6933</th>\n",
       "      <td>43</td>\n",
       "      <td>0.023256</td>\n",
       "      <td>0.100000</td>\n",
       "      <td>0.243902</td>\n",
       "      <td>0.279070</td>\n",
       "      <td>0.390244</td>\n",
       "      <td>0.669314</td>\n",
       "      <td>4.056</td>\n",
       "      <td>0.750000</td>\n",
       "      <td>0.302136</td>\n",
       "      <td>0.300000</td>\n",
       "      <td>0.0</td>\n",
       "    </tr>\n",
       "    <tr>\n",
       "      <th>6934</th>\n",
       "      <td>52</td>\n",
       "      <td>0.057692</td>\n",
       "      <td>0.000000</td>\n",
       "      <td>0.361702</td>\n",
       "      <td>0.411765</td>\n",
       "      <td>0.382979</td>\n",
       "      <td>0.794743</td>\n",
       "      <td>7.026</td>\n",
       "      <td>0.684211</td>\n",
       "      <td>0.316823</td>\n",
       "      <td>0.058824</td>\n",
       "      <td>0.0</td>\n",
       "    </tr>\n",
       "  </tbody>\n",
       "</table>\n",
       "<p>6934 rows × 12 columns</p>\n",
       "</div>"
      ],
      "text/plain": [
       "      PA   BB_rate   HR_rate       AVG       OBP       SLG       OPS      XR  \\\n",
       "1     12  0.000000  0.000000  0.166667  0.166667  0.166667  0.333333   0.076   \n",
       "2     10  0.100000  0.000000  0.333333  0.400000  0.444444  0.844444   1.020   \n",
       "3      0  0.000000  0.000000  0.000000  0.000000  0.000000  0.000000   0.000   \n",
       "4      1  1.000000  0.000000  0.000000  1.000000  0.000000  1.000000   0.340   \n",
       "5     36  0.111111  0.166667  0.193548  0.305556  0.322581  0.628136   2.444   \n",
       "...   ..       ...       ...       ...       ...       ...       ...     ...   \n",
       "6930   5  0.000000  0.000000  0.200000  0.200000  0.400000  0.600000   0.344   \n",
       "6931  67  0.134328  0.400000  0.263158  0.358209  0.596491  0.954700  11.212   \n",
       "6932  78  0.115385  0.050000  0.294118  0.371795  0.441176  0.812971  11.812   \n",
       "6933  43  0.023256  0.100000  0.243902  0.279070  0.390244  0.669314   4.056   \n",
       "6934  52  0.057692  0.000000  0.361702  0.411765  0.382979  0.794743   7.026   \n",
       "\n",
       "       SB_rate     BABIP   H2_rate  H3_rate  \n",
       "1     0.000000  0.142857  0.000000      0.0  \n",
       "2     0.000000  0.380952  0.333333      0.0  \n",
       "3     0.000000  0.000000  0.000000      0.0  \n",
       "4     0.000000  0.260870  0.000000      0.0  \n",
       "5     0.533333  0.309133  0.166667      0.0  \n",
       "...        ...       ...       ...      ...  \n",
       "6930  0.000000  0.290323  1.000000      0.0  \n",
       "6931  0.000000  0.326748  0.066667      0.0  \n",
       "6932  0.745098  0.349434  0.150000      0.1  \n",
       "6933  0.750000  0.302136  0.300000      0.0  \n",
       "6934  0.684211  0.316823  0.058824      0.0  \n",
       "\n",
       "[6934 rows x 12 columns]"
      ]
     },
     "execution_count": 2,
     "metadata": {},
     "output_type": "execute_result"
    }
   ],
   "source": [
    "# 데이터 불러오기\n",
    "data = pd.read_csv('../../data/batter_feature_selection.csv', index_col=0)\n",
    "data"
   ]
  },
  {
   "cell_type": "code",
   "execution_count": 3,
   "metadata": {},
   "outputs": [],
   "source": [
    "batter = data.copy()"
   ]
  },
  {
   "cell_type": "code",
   "execution_count": 4,
   "metadata": {},
   "outputs": [],
   "source": [
    "# trainset testset split\n",
    "X = batter[batter.columns.difference(['XR'])]\n",
    "y = batter['XR']\n",
    "\n",
    "X_train, X_test, y_train, y_test = train_test_split(X, y, test_size=0.3, random_state=99)"
   ]
  },
  {
   "cell_type": "code",
   "execution_count": 5,
   "metadata": {},
   "outputs": [],
   "source": [
    "# 모델 선언\n",
    "rfr = RandomForestRegressor()"
   ]
  },
  {
   "cell_type": "code",
   "execution_count": 6,
   "metadata": {},
   "outputs": [
    {
     "data": {
      "text/plain": [
       "RandomForestRegressor()"
      ]
     },
     "execution_count": 6,
     "metadata": {},
     "output_type": "execute_result"
    }
   ],
   "source": [
    "# 모델 fitting\n",
    "rfr.fit(X_train, y_train)"
   ]
  },
  {
   "cell_type": "code",
   "execution_count": 7,
   "metadata": {},
   "outputs": [],
   "source": [
    "# 예측\n",
    "y_pred = rfr.predict(X_test)"
   ]
  },
  {
   "cell_type": "code",
   "execution_count": 8,
   "metadata": {},
   "outputs": [
    {
     "name": "stdout",
     "output_type": "stream",
     "text": [
      "정확도 :  0.9918013600033134\n",
      "MSE :  0.2943522757993502\n"
     ]
    }
   ],
   "source": [
    "# 성능 평가\n",
    "print('정확도 : ', rfr.score(X_test, y_test)) \n",
    "print('MSE : ', mean_squared_error(y_test, y_pred))"
   ]
  },
  {
   "cell_type": "code",
   "execution_count": 9,
   "metadata": {},
   "outputs": [
    {
     "data": {
      "image/png": "[encoded data removed]",
      "text/plain": [
       "<Figure size 432x288 with 1 Axes>"
      ]
     },
     "metadata": {
      "needs_background": "light"
     },
     "output_type": "display_data"
    }
   ],
   "source": [
    "ft_importance = pd.Series(rfr.feature_importances_, index=X_train.columns)\n",
    "ft_importance = ft_importance.sort_values(ascending=False)\n",
    "\n",
    "plt.figure()\n",
    "sns.barplot(x=ft_importance, y=X_train.columns)\n",
    "plt.show()"
   ]
  },
  {
   "cell_type": "markdown",
   "metadata": {},
   "source": [
    "## pitcher"
   ]
  },
  {
   "cell_type": "code",
   "execution_count": 10,
   "metadata": {},
   "outputs": [
    {
     "data": {
      "text/html": [
       "<div>\n",
       "<style scoped>\n",
       "    .dataframe tbody tr th:only-of-type {\n",
       "        vertical-align: middle;\n",
       "    }\n",
       "\n",
       "    .dataframe tbody tr th {\n",
       "        vertical-align: top;\n",
       "    }\n",
       "\n",
       "    .dataframe thead th {\n",
       "        text-align: right;\n",
       "    }\n",
       "</style>\n",
       "<table border=\"1\" class=\"dataframe\">\n",
       "  <thead>\n",
       "    <tr style=\"text-align: right;\">\n",
       "      <th></th>\n",
       "      <th>BF</th>\n",
       "      <th>PA</th>\n",
       "      <th>BK</th>\n",
       "      <th>R</th>\n",
       "      <th>AVG</th>\n",
       "      <th>OBP</th>\n",
       "      <th>SLG</th>\n",
       "      <th>OPS</th>\n",
       "      <th>BABIP</th>\n",
       "      <th>H2_rate</th>\n",
       "      <th>H3_rate</th>\n",
       "      <th>HR_rate</th>\n",
       "    </tr>\n",
       "  </thead>\n",
       "  <tbody>\n",
       "    <tr>\n",
       "      <th>1</th>\n",
       "      <td>195</td>\n",
       "      <td>48</td>\n",
       "      <td>0</td>\n",
       "      <td>8</td>\n",
       "      <td>0.372093</td>\n",
       "      <td>0.437500</td>\n",
       "      <td>0.581395</td>\n",
       "      <td>1.018895</td>\n",
       "      <td>0.405660</td>\n",
       "      <td>0.187500</td>\n",
       "      <td>0.000000</td>\n",
       "      <td>0.125000</td>\n",
       "    </tr>\n",
       "    <tr>\n",
       "      <th>2</th>\n",
       "      <td>48</td>\n",
       "      <td>8</td>\n",
       "      <td>0</td>\n",
       "      <td>5</td>\n",
       "      <td>0.500000</td>\n",
       "      <td>0.875000</td>\n",
       "      <td>0.500000</td>\n",
       "      <td>1.375000</td>\n",
       "      <td>0.368421</td>\n",
       "      <td>0.000000</td>\n",
       "      <td>0.000000</td>\n",
       "      <td>0.000000</td>\n",
       "    </tr>\n",
       "    <tr>\n",
       "      <th>3</th>\n",
       "      <td>123</td>\n",
       "      <td>35</td>\n",
       "      <td>0</td>\n",
       "      <td>5</td>\n",
       "      <td>0.258065</td>\n",
       "      <td>0.323529</td>\n",
       "      <td>0.483871</td>\n",
       "      <td>0.807400</td>\n",
       "      <td>0.319295</td>\n",
       "      <td>0.125000</td>\n",
       "      <td>0.000000</td>\n",
       "      <td>0.250000</td>\n",
       "    </tr>\n",
       "    <tr>\n",
       "      <th>4</th>\n",
       "      <td>181</td>\n",
       "      <td>45</td>\n",
       "      <td>0</td>\n",
       "      <td>5</td>\n",
       "      <td>0.225000</td>\n",
       "      <td>0.311111</td>\n",
       "      <td>0.275000</td>\n",
       "      <td>0.586111</td>\n",
       "      <td>0.273973</td>\n",
       "      <td>0.222222</td>\n",
       "      <td>0.000000</td>\n",
       "      <td>0.000000</td>\n",
       "    </tr>\n",
       "    <tr>\n",
       "      <th>5</th>\n",
       "      <td>192</td>\n",
       "      <td>44</td>\n",
       "      <td>0</td>\n",
       "      <td>14</td>\n",
       "      <td>0.428571</td>\n",
       "      <td>0.534884</td>\n",
       "      <td>0.657143</td>\n",
       "      <td>1.192027</td>\n",
       "      <td>0.348045</td>\n",
       "      <td>0.133333</td>\n",
       "      <td>0.000000</td>\n",
       "      <td>0.133333</td>\n",
       "    </tr>\n",
       "    <tr>\n",
       "      <th>...</th>\n",
       "      <td>...</td>\n",
       "      <td>...</td>\n",
       "      <td>...</td>\n",
       "      <td>...</td>\n",
       "      <td>...</td>\n",
       "      <td>...</td>\n",
       "      <td>...</td>\n",
       "      <td>...</td>\n",
       "      <td>...</td>\n",
       "      <td>...</td>\n",
       "      <td>...</td>\n",
       "      <td>...</td>\n",
       "    </tr>\n",
       "    <tr>\n",
       "      <th>5300</th>\n",
       "      <td>152</td>\n",
       "      <td>38</td>\n",
       "      <td>0</td>\n",
       "      <td>8</td>\n",
       "      <td>0.200000</td>\n",
       "      <td>0.368421</td>\n",
       "      <td>0.300000</td>\n",
       "      <td>0.668421</td>\n",
       "      <td>0.333333</td>\n",
       "      <td>0.000000</td>\n",
       "      <td>0.000000</td>\n",
       "      <td>0.166667</td>\n",
       "    </tr>\n",
       "    <tr>\n",
       "      <th>5301</th>\n",
       "      <td>293</td>\n",
       "      <td>77</td>\n",
       "      <td>1</td>\n",
       "      <td>6</td>\n",
       "      <td>0.293333</td>\n",
       "      <td>0.311688</td>\n",
       "      <td>0.373333</td>\n",
       "      <td>0.685022</td>\n",
       "      <td>0.279188</td>\n",
       "      <td>0.045455</td>\n",
       "      <td>0.045455</td>\n",
       "      <td>0.045455</td>\n",
       "    </tr>\n",
       "    <tr>\n",
       "      <th>5302</th>\n",
       "      <td>24</td>\n",
       "      <td>7</td>\n",
       "      <td>0</td>\n",
       "      <td>3</td>\n",
       "      <td>0.600000</td>\n",
       "      <td>0.714286</td>\n",
       "      <td>0.800000</td>\n",
       "      <td>1.514286</td>\n",
       "      <td>0.352113</td>\n",
       "      <td>0.333333</td>\n",
       "      <td>0.000000</td>\n",
       "      <td>0.000000</td>\n",
       "    </tr>\n",
       "    <tr>\n",
       "      <th>5303</th>\n",
       "      <td>70</td>\n",
       "      <td>20</td>\n",
       "      <td>0</td>\n",
       "      <td>7</td>\n",
       "      <td>0.529412</td>\n",
       "      <td>0.550000</td>\n",
       "      <td>0.588235</td>\n",
       "      <td>1.138235</td>\n",
       "      <td>0.471698</td>\n",
       "      <td>0.111111</td>\n",
       "      <td>0.000000</td>\n",
       "      <td>0.000000</td>\n",
       "    </tr>\n",
       "    <tr>\n",
       "      <th>5304</th>\n",
       "      <td>96</td>\n",
       "      <td>26</td>\n",
       "      <td>0</td>\n",
       "      <td>1</td>\n",
       "      <td>0.173913</td>\n",
       "      <td>0.240000</td>\n",
       "      <td>0.217391</td>\n",
       "      <td>0.457391</td>\n",
       "      <td>0.323983</td>\n",
       "      <td>0.250000</td>\n",
       "      <td>0.000000</td>\n",
       "      <td>0.000000</td>\n",
       "    </tr>\n",
       "  </tbody>\n",
       "</table>\n",
       "<p>5304 rows × 12 columns</p>\n",
       "</div>"
      ],
      "text/plain": [
       "       BF  PA  BK   R       AVG       OBP       SLG       OPS     BABIP  \\\n",
       "1     195  48   0   8  0.372093  0.437500  0.581395  1.018895  0.405660   \n",
       "2      48   8   0   5  0.500000  0.875000  0.500000  1.375000  0.368421   \n",
       "3     123  35   0   5  0.258065  0.323529  0.483871  0.807400  0.319295   \n",
       "4     181  45   0   5  0.225000  0.311111  0.275000  0.586111  0.273973   \n",
       "5     192  44   0  14  0.428571  0.534884  0.657143  1.192027  0.348045   \n",
       "...   ...  ..  ..  ..       ...       ...       ...       ...       ...   \n",
       "5300  152  38   0   8  0.200000  0.368421  0.300000  0.668421  0.333333   \n",
       "5301  293  77   1   6  0.293333  0.311688  0.373333  0.685022  0.279188   \n",
       "5302   24   7   0   3  0.600000  0.714286  0.800000  1.514286  0.352113   \n",
       "5303   70  20   0   7  0.529412  0.550000  0.588235  1.138235  0.471698   \n",
       "5304   96  26   0   1  0.173913  0.240000  0.217391  0.457391  0.323983   \n",
       "\n",
       "       H2_rate   H3_rate   HR_rate  \n",
       "1     0.187500  0.000000  0.125000  \n",
       "2     0.000000  0.000000  0.000000  \n",
       "3     0.125000  0.000000  0.250000  \n",
       "4     0.222222  0.000000  0.000000  \n",
       "5     0.133333  0.000000  0.133333  \n",
       "...        ...       ...       ...  \n",
       "5300  0.000000  0.000000  0.166667  \n",
       "5301  0.045455  0.045455  0.045455  \n",
       "5302  0.333333  0.000000  0.000000  \n",
       "5303  0.111111  0.000000  0.000000  \n",
       "5304  0.250000  0.000000  0.000000  \n",
       "\n",
       "[5304 rows x 12 columns]"
      ]
     },
     "execution_count": 10,
     "metadata": {},
     "output_type": "execute_result"
    }
   ],
   "source": [
    "data = pd.read_csv('../../data/pitcher_feature_selection.csv', index_col=0)\n",
    "data"
   ]
  },
  {
   "cell_type": "code",
   "execution_count": 11,
   "metadata": {},
   "outputs": [],
   "source": [
    "pitcher = data.copy()"
   ]
  },
  {
   "cell_type": "code",
   "execution_count": 12,
   "metadata": {},
   "outputs": [],
   "source": [
    "# trainset testset split\n",
    "X = pitcher[pitcher.columns.difference(['R'])]\n",
    "y = pitcher['R']\n",
    "\n",
    "X_train, X_test, y_train, y_test = train_test_split(X, y, test_size=0.3, random_state=99)"
   ]
  },
  {
   "cell_type": "code",
   "execution_count": 13,
   "metadata": {},
   "outputs": [],
   "source": [
    "# 모델 선언\n",
    "rfr = RandomForestRegressor()"
   ]
  },
  {
   "cell_type": "code",
   "execution_count": 14,
   "metadata": {},
   "outputs": [
    {
     "data": {
      "text/plain": [
       "RandomForestRegressor()"
      ]
     },
     "execution_count": 14,
     "metadata": {},
     "output_type": "execute_result"
    }
   ],
   "source": [
    "# 모델 fitting\n",
    "rfr.fit(X_train, y_train)"
   ]
  },
  {
   "cell_type": "code",
   "execution_count": 15,
   "metadata": {},
   "outputs": [],
   "source": [
    "# 예측\n",
    "y_pred = rfr.predict(X_test)"
   ]
  },
  {
   "cell_type": "code",
   "execution_count": 16,
   "metadata": {},
   "outputs": [
    {
     "name": "stdout",
     "output_type": "stream",
     "text": [
      "정확도 :  0.8706641847784355\n",
      "MSE :  4.264006783919598\n"
     ]
    }
   ],
   "source": [
    "# 성능 평가\n",
    "print('정확도 : ', rfr.score(X_test, y_test)) \n",
    "print('MSE : ', mean_squared_error(y_test, y_pred))"
   ]
  },
  {
   "cell_type": "code",
   "execution_count": 17,
   "metadata": {},
   "outputs": [
    {
     "data": {
      "image/png": "[encoded data removed]",
      "text/plain": [
       "<Figure size 432x288 with 1 Axes>"
      ]
     },
     "metadata": {
      "needs_background": "light"
     },
     "output_type": "display_data"
    }
   ],
   "source": [
    "ft_importance = pd.Series(rfr.feature_importances_, index=X_train.columns)\n",
    "ft_importance = ft_importance.sort_values(ascending=False)\n",
    "\n",
    "plt.figure()\n",
    "sns.barplot(x=ft_importance, y=X_train.columns)\n",
    "plt.show()"
   ]
  }
 ],
 "metadata": {
  "kernelspec": {
   "display_name": "Python 3",
   "language": "python",
   "name": "python3"
  },
  "language_info": {
   "codemirror_mode": {
    "name": "ipython",
    "version": 3
   },
   "file_extension": ".py",
   "mimetype": "text/x-python",
   "name": "python",
   "nbconvert_exporter": "python",
   "pygments_lexer": "ipython3",
   "version": "3.7.2"
  }
 },
 "nbformat": 4,
 "nbformat_minor": 4
}
