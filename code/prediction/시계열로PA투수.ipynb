{
  "nbformat": 4,
  "nbformat_minor": 0,
  "metadata": {
    "colab": {
      "name": "시계열로PA투수.ipynb",
      "provenance": [],
      "private_outputs": true,
      "collapsed_sections": []
    },
    "kernelspec": {
      "name": "python3",
      "display_name": "Python 3"
    }
  },
  "cells": [
    {
      "cell_type": "markdown",
      "metadata": {
        "id": "4Tlv9ZXJiTRq",
        "colab_type": "text"
      },
      "source": [
        "# 시계열로 투수 PA 예측하기(with fbProphet) - 오태환"
      ]
    },
    {
      "cell_type": "markdown",
      "metadata": {
        "id": "fsketrRJicuH",
        "colab_type": "text"
      },
      "source": [
        "## 0) Importing Packages and Batter"
      ]
    },
    {
      "cell_type": "code",
      "metadata": {
        "id": "3ObckDK3ihYN",
        "colab_type": "code",
        "colab": {}
      },
      "source": [
        "import pandas as pd"
      ],
      "execution_count": null,
      "outputs": []
    },
    {
      "cell_type": "code",
      "metadata": {
        "id": "1btU4QwlijF4",
        "colab_type": "code",
        "colab": {}
      },
      "source": [
        "from fbprophet import Prophet\n",
        "import datetime"
      ],
      "execution_count": null,
      "outputs": []
    },
    {
      "cell_type": "code",
      "metadata": {
        "id": "crtGXT9dik5R",
        "colab_type": "code",
        "colab": {}
      },
      "source": [
        "df = pd.read_csv(\"https://raw.githubusercontent.com/njj06135/Baseball_ChilliShrimp/master/data/pitcher_pa_per_g.csv\")"
      ],
      "execution_count": null,
      "outputs": []
    },
    {
      "cell_type": "code",
      "metadata": {
        "id": "ouwGGvP8ixqq",
        "colab_type": "code",
        "colab": {}
      },
      "source": [
        "df"
      ],
      "execution_count": null,
      "outputs": []
    },
    {
      "cell_type": "markdown",
      "metadata": {
        "id": "5InWfevei8U_",
        "colab_type": "text"
      },
      "source": [
        "## 4월과 10월은 경기 수가 적어 outlier를 만드므로 삭제"
      ]
    },
    {
      "cell_type": "code",
      "metadata": {
        "id": "Hot46I-0izDi",
        "colab_type": "code",
        "colab": {}
      },
      "source": [
        "df = df.loc[df.month > 4 ,:]"
      ],
      "execution_count": null,
      "outputs": []
    },
    {
      "cell_type": "code",
      "metadata": {
        "id": "E6MnY4uJi5tf",
        "colab_type": "code",
        "colab": {}
      },
      "source": [
        "df = df.loc[df.month < 10,:]"
      ],
      "execution_count": null,
      "outputs": []
    },
    {
      "cell_type": "markdown",
      "metadata": {
        "id": "tdT_4P4Wi64i",
        "colab_type": "text"
      },
      "source": [
        "### 현재 선수 뽑기"
      ]
    },
    {
      "cell_type": "code",
      "metadata": {
        "id": "h_RsHqPikReI",
        "colab_type": "code",
        "colab": {}
      },
      "source": [
        "pplayer = df.loc[df.year == 2020,:]"
      ],
      "execution_count": null,
      "outputs": []
    },
    {
      "cell_type": "code",
      "metadata": {
        "id": "t5qGOu4RkS7F",
        "colab_type": "code",
        "colab": {}
      },
      "source": [
        "pplayer = pplayer['P_ID'].unique()"
      ],
      "execution_count": null,
      "outputs": []
    },
    {
      "cell_type": "code",
      "metadata": {
        "id": "B3RwgmpDkVC2",
        "colab_type": "code",
        "colab": {}
      },
      "source": [
        "pplayer"
      ],
      "execution_count": null,
      "outputs": []
    },
    {
      "cell_type": "markdown",
      "metadata": {
        "id": "GPavBGvekbkv",
        "colab_type": "text"
      },
      "source": [
        "### 시계열 예측"
      ]
    },
    {
      "cell_type": "code",
      "metadata": {
        "id": "6Q2qd79BkWVO",
        "colab_type": "code",
        "colab": {}
      },
      "source": [
        "df['ds'] = df.agg(lambda x: f\"{int(x['year'])}-{int(x['month'])}-30\", axis=1)"
      ],
      "execution_count": null,
      "outputs": []
    },
    {
      "cell_type": "code",
      "metadata": {
        "id": "LAa2lueMkgZh",
        "colab_type": "code",
        "colab": {}
      },
      "source": [
        "import numpy as np"
      ],
      "execution_count": null,
      "outputs": []
    },
    {
      "cell_type": "code",
      "metadata": {
        "id": "wpAgoubfkiSJ",
        "colab_type": "code",
        "colab": {}
      },
      "source": [
        "predicted = pd.DataFrame()\n",
        "\n",
        "for i in range(len(pplayer)):\n",
        "    print(\"process : \", i/len(pplayer))\n",
        "    temp = df[df['P_ID'].isin([pplayer[i]])]\n",
        "    temp['y'] = temp['PA_PER_G']\n",
        "    temp = temp[['ds', 'y']]\n",
        "    temp['floor'] = 0\n",
        "    temp.fillna(0)\n",
        "    if len(temp) > 2:\n",
        "        m = Prophet(seasonality_mode='multiplicative', mcmc_samples=300).fit(temp)\n",
        "        future = m.make_future_dataframe(periods=3, freq='M')\n",
        "        future['floor'] = 0\n",
        "        fcst = m.predict(future)\n",
        "        fcst = fcst[fcst.ds > '2020-07-01']\n",
        "        fcst['PA_PER_G'] = fcst['yhat']\n",
        "        fcst['P_ID'] = pplayer[i]\n",
        "        fcst = fcst[['ds','P_ID', 'PA_PER_G']]\n",
        "        fcst = pd.DataFrame(fcst)\n",
        "        fcst = fcst.reset_index(drop = True)\n",
        "        fcst.PA_PER_G[fcst.PA_PER_G > np.max(temp['y'])] = np.max(temp['y'])\n",
        "        last = fcst.iloc[-1][-1]\n",
        "        octo = pd.DataFrame(['2020-10-31', pplayer[i],last])\n",
        "        octo = np.transpose(octo)\n",
        "        octo.columns = ['ds', 'P_ID', 'PA_PER_G']\n",
        "        fcst = fcst.append(octo)\n",
        "        fcst = fcst.reset_index(drop = True)\n",
        "        predicted = predicted.append(fcst, ignore_index=True)\n",
        "    else:\n",
        "        ds = pd.DataFrame(['2020-07-31', '2020-08-31', '2020-09-30', '2020-10-31'])\n",
        "        ds['P_ID'] = pplayer[i]\n",
        "        ds['PA_PER_G'] = np.mean(temp['y'])\n",
        "        ds.columns = ['ds', 'P_ID', 'PA_PER_G']\n",
        "        predicted = predicted.append(ds, ignore_index=True)\n",
        "        "
      ],
      "execution_count": null,
      "outputs": []
    },
    {
      "cell_type": "code",
      "metadata": {
        "id": "05UosWuQrrxF",
        "colab_type": "code",
        "colab": {}
      },
      "source": [
        "predicted"
      ],
      "execution_count": null,
      "outputs": []
    },
    {
      "cell_type": "code",
      "metadata": {
        "id": "AxQpwuqVr8m_",
        "colab_type": "code",
        "colab": {}
      },
      "source": [
        "predicted.PA_PER_G[predicted.PA_PER_G < 0] = 0"
      ],
      "execution_count": null,
      "outputs": []
    },
    {
      "cell_type": "code",
      "metadata": {
        "id": "YNEUTjocsA1D",
        "colab_type": "code",
        "colab": {}
      },
      "source": [
        "predicted.to_csv(\"predicted_pa_per_g_pitcher.csv\", index = False)"
      ],
      "execution_count": null,
      "outputs": []
    },
    {
      "cell_type": "code",
      "metadata": {
        "id": "XgVMNxsrsE6t",
        "colab_type": "code",
        "colab": {}
      },
      "source": [
        "from google.colab import files"
      ],
      "execution_count": null,
      "outputs": []
    },
    {
      "cell_type": "code",
      "metadata": {
        "id": "AuhcFHcEsGPs",
        "colab_type": "code",
        "colab": {}
      },
      "source": [
        "files.download(\"predicted_pa_per_g_pitcher.csv\")"
      ],
      "execution_count": null,
      "outputs": []
    },
    {
      "cell_type": "code",
      "metadata": {
        "id": "tYsmTp0asMEz",
        "colab_type": "code",
        "colab": {}
      },
      "source": [
        ""
      ],
      "execution_count": null,
      "outputs": []
    }
  ]
}