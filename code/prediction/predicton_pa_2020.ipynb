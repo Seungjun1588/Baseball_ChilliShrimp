{
  "nbformat": 4,
  "nbformat_minor": 0,
  "metadata": {
    "colab": {
      "name": "predicton_pa_2020.ipynb",
      "provenance": [],
      "collapsed_sections": []
    },
    "kernelspec": {
      "name": "python3",
      "display_name": "Python 3"
    }
  },
  "cells": [
    {
      "cell_type": "markdown",
      "metadata": {
        "id": "NJbtPKIhXlmE"
      },
      "source": [
        "# PA 예측하기"
      ]
    },
    {
      "cell_type": "markdown",
      "metadata": {
        "id": "fBS59BujkLl9"
      },
      "source": [
        "## 1. Batter"
      ]
    },
    {
      "cell_type": "code",
      "metadata": {
        "id": "Z5bVnGmkXo1i"
      },
      "source": [
        "import numpy as np\n",
        "import pandas as pd\n",
        "import tensorflow as tf\n",
        "import tensorflow_probability as tfp"
      ],
      "execution_count": null,
      "outputs": []
    },
    {
      "cell_type": "code",
      "metadata": {
        "id": "PvRiDTWfXw_i"
      },
      "source": [
        "batter = pd.read_csv(\"https://raw.githubusercontent.com/njj06135/Baseball_ChilliShrimp/master/data/modeling_batter_stadium.csv\")"
      ],
      "execution_count": null,
      "outputs": []
    },
    {
      "cell_type": "code",
      "metadata": {
        "id": "-UTtsCmMYAci",
        "outputId": "8a9ee361-293d-45da-d8c8-914593259320",
        "colab": {
          "base_uri": "https://localhost:8080/",
          "height": 426
        }
      },
      "source": [
        "batter"
      ],
      "execution_count": null,
      "outputs": [
        {
          "output_type": "execute_result",
          "data": {
            "text/html": [
              "<div>\n",
              "<style scoped>\n",
              "    .dataframe tbody tr th:only-of-type {\n",
              "        vertical-align: middle;\n",
              "    }\n",
              "\n",
              "    .dataframe tbody tr th {\n",
              "        vertical-align: top;\n",
              "    }\n",
              "\n",
              "    .dataframe thead th {\n",
              "        text-align: right;\n",
              "    }\n",
              "</style>\n",
              "<table border=\"1\" class=\"dataframe\">\n",
              "  <thead>\n",
              "    <tr style=\"text-align: right;\">\n",
              "      <th></th>\n",
              "      <th>year</th>\n",
              "      <th>month</th>\n",
              "      <th>T_ID</th>\n",
              "      <th>P_ID</th>\n",
              "      <th>PA</th>\n",
              "      <th>VS_T_ID_HH</th>\n",
              "      <th>VS_T_ID_HT</th>\n",
              "      <th>VS_T_ID_KT</th>\n",
              "      <th>VS_T_ID_LG</th>\n",
              "      <th>VS_T_ID_LT</th>\n",
              "      <th>VS_T_ID_NC</th>\n",
              "      <th>VS_T_ID_OB</th>\n",
              "      <th>VS_T_ID_SK</th>\n",
              "      <th>VS_T_ID_SS</th>\n",
              "      <th>VS_T_ID_WO</th>\n",
              "      <th>BAT_ORDER</th>\n",
              "      <th>SB_rate</th>\n",
              "      <th>BABIP</th>\n",
              "      <th>H2_rate</th>\n",
              "      <th>H3_rate</th>\n",
              "      <th>HR_rate</th>\n",
              "      <th>BB_rate</th>\n",
              "      <th>HP_rate</th>\n",
              "      <th>GD_rate</th>\n",
              "      <th>XR</th>\n",
              "      <th>AVG</th>\n",
              "      <th>OBP</th>\n",
              "      <th>SLG</th>\n",
              "      <th>OPS</th>\n",
              "      <th>stadium_MH</th>\n",
              "      <th>stadium_MS</th>\n",
              "      <th>stadium_JS</th>\n",
              "      <th>stadium_SW</th>\n",
              "      <th>stadium_DJ</th>\n",
              "      <th>stadium_DG</th>\n",
              "      <th>stadium_GJ</th>\n",
              "      <th>stadium_GC</th>\n",
              "      <th>stadium_SJ</th>\n",
              "      <th>stadium_PH</th>\n",
              "      <th>stadium_US</th>\n",
              "      <th>stadium_CJ</th>\n",
              "      <th>stadium_CW</th>\n",
              "    </tr>\n",
              "  </thead>\n",
              "  <tbody>\n",
              "    <tr>\n",
              "      <th>0</th>\n",
              "      <td>2016</td>\n",
              "      <td>4</td>\n",
              "      <td>HH</td>\n",
              "      <td>60404</td>\n",
              "      <td>12</td>\n",
              "      <td>0</td>\n",
              "      <td>0</td>\n",
              "      <td>0</td>\n",
              "      <td>2</td>\n",
              "      <td>0</td>\n",
              "      <td>2</td>\n",
              "      <td>1</td>\n",
              "      <td>0</td>\n",
              "      <td>0</td>\n",
              "      <td>2</td>\n",
              "      <td>9</td>\n",
              "      <td>0.000000</td>\n",
              "      <td>0.142857</td>\n",
              "      <td>0.000000</td>\n",
              "      <td>0.0</td>\n",
              "      <td>0.000000</td>\n",
              "      <td>0.000000</td>\n",
              "      <td>0.000000</td>\n",
              "      <td>0.000000</td>\n",
              "      <td>0.076</td>\n",
              "      <td>0.166667</td>\n",
              "      <td>0.166667</td>\n",
              "      <td>0.166667</td>\n",
              "      <td>0.333333</td>\n",
              "      <td>0</td>\n",
              "      <td>3</td>\n",
              "      <td>5</td>\n",
              "      <td>0</td>\n",
              "      <td>12</td>\n",
              "      <td>0</td>\n",
              "      <td>0</td>\n",
              "      <td>0</td>\n",
              "      <td>3</td>\n",
              "      <td>0</td>\n",
              "      <td>0</td>\n",
              "      <td>0</td>\n",
              "      <td>0</td>\n",
              "    </tr>\n",
              "    <tr>\n",
              "      <th>1</th>\n",
              "      <td>2016</td>\n",
              "      <td>4</td>\n",
              "      <td>HH</td>\n",
              "      <td>60667</td>\n",
              "      <td>10</td>\n",
              "      <td>0</td>\n",
              "      <td>0</td>\n",
              "      <td>0</td>\n",
              "      <td>2</td>\n",
              "      <td>3</td>\n",
              "      <td>0</td>\n",
              "      <td>3</td>\n",
              "      <td>0</td>\n",
              "      <td>0</td>\n",
              "      <td>0</td>\n",
              "      <td>8</td>\n",
              "      <td>0.000000</td>\n",
              "      <td>0.380952</td>\n",
              "      <td>0.333333</td>\n",
              "      <td>0.0</td>\n",
              "      <td>0.000000</td>\n",
              "      <td>0.100000</td>\n",
              "      <td>0.000000</td>\n",
              "      <td>0.100000</td>\n",
              "      <td>1.020</td>\n",
              "      <td>0.333333</td>\n",
              "      <td>0.400000</td>\n",
              "      <td>0.444444</td>\n",
              "      <td>0.844444</td>\n",
              "      <td>0</td>\n",
              "      <td>3</td>\n",
              "      <td>5</td>\n",
              "      <td>0</td>\n",
              "      <td>12</td>\n",
              "      <td>0</td>\n",
              "      <td>0</td>\n",
              "      <td>0</td>\n",
              "      <td>3</td>\n",
              "      <td>0</td>\n",
              "      <td>0</td>\n",
              "      <td>0</td>\n",
              "      <td>0</td>\n",
              "    </tr>\n",
              "    <tr>\n",
              "      <th>2</th>\n",
              "      <td>2016</td>\n",
              "      <td>4</td>\n",
              "      <td>HH</td>\n",
              "      <td>60757</td>\n",
              "      <td>0</td>\n",
              "      <td>0</td>\n",
              "      <td>0</td>\n",
              "      <td>0</td>\n",
              "      <td>0</td>\n",
              "      <td>0</td>\n",
              "      <td>0</td>\n",
              "      <td>1</td>\n",
              "      <td>0</td>\n",
              "      <td>0</td>\n",
              "      <td>0</td>\n",
              "      <td>9</td>\n",
              "      <td>0.000000</td>\n",
              "      <td>0.000000</td>\n",
              "      <td>0.000000</td>\n",
              "      <td>0.0</td>\n",
              "      <td>0.000000</td>\n",
              "      <td>0.000000</td>\n",
              "      <td>0.000000</td>\n",
              "      <td>0.000000</td>\n",
              "      <td>0.000</td>\n",
              "      <td>0.000000</td>\n",
              "      <td>0.000000</td>\n",
              "      <td>0.000000</td>\n",
              "      <td>0.000000</td>\n",
              "      <td>0</td>\n",
              "      <td>3</td>\n",
              "      <td>5</td>\n",
              "      <td>0</td>\n",
              "      <td>12</td>\n",
              "      <td>0</td>\n",
              "      <td>0</td>\n",
              "      <td>0</td>\n",
              "      <td>3</td>\n",
              "      <td>0</td>\n",
              "      <td>0</td>\n",
              "      <td>0</td>\n",
              "      <td>0</td>\n",
              "    </tr>\n",
              "    <tr>\n",
              "      <th>3</th>\n",
              "      <td>2016</td>\n",
              "      <td>4</td>\n",
              "      <td>HH</td>\n",
              "      <td>60805</td>\n",
              "      <td>1</td>\n",
              "      <td>0</td>\n",
              "      <td>0</td>\n",
              "      <td>0</td>\n",
              "      <td>0</td>\n",
              "      <td>0</td>\n",
              "      <td>0</td>\n",
              "      <td>0</td>\n",
              "      <td>0</td>\n",
              "      <td>2</td>\n",
              "      <td>0</td>\n",
              "      <td>2</td>\n",
              "      <td>0.000000</td>\n",
              "      <td>0.260870</td>\n",
              "      <td>0.000000</td>\n",
              "      <td>0.0</td>\n",
              "      <td>0.000000</td>\n",
              "      <td>1.000000</td>\n",
              "      <td>0.000000</td>\n",
              "      <td>0.000000</td>\n",
              "      <td>0.340</td>\n",
              "      <td>0.000000</td>\n",
              "      <td>1.000000</td>\n",
              "      <td>0.000000</td>\n",
              "      <td>0.000000</td>\n",
              "      <td>0</td>\n",
              "      <td>3</td>\n",
              "      <td>5</td>\n",
              "      <td>0</td>\n",
              "      <td>12</td>\n",
              "      <td>0</td>\n",
              "      <td>0</td>\n",
              "      <td>0</td>\n",
              "      <td>3</td>\n",
              "      <td>0</td>\n",
              "      <td>0</td>\n",
              "      <td>0</td>\n",
              "      <td>0</td>\n",
              "    </tr>\n",
              "    <tr>\n",
              "      <th>4</th>\n",
              "      <td>2016</td>\n",
              "      <td>4</td>\n",
              "      <td>HH</td>\n",
              "      <td>61700</td>\n",
              "      <td>36</td>\n",
              "      <td>0</td>\n",
              "      <td>1</td>\n",
              "      <td>0</td>\n",
              "      <td>3</td>\n",
              "      <td>3</td>\n",
              "      <td>3</td>\n",
              "      <td>3</td>\n",
              "      <td>0</td>\n",
              "      <td>0</td>\n",
              "      <td>3</td>\n",
              "      <td>8</td>\n",
              "      <td>0.533333</td>\n",
              "      <td>0.309133</td>\n",
              "      <td>0.166667</td>\n",
              "      <td>0.0</td>\n",
              "      <td>0.166667</td>\n",
              "      <td>0.111111</td>\n",
              "      <td>0.027778</td>\n",
              "      <td>0.083333</td>\n",
              "      <td>2.444</td>\n",
              "      <td>0.193548</td>\n",
              "      <td>0.305556</td>\n",
              "      <td>0.322581</td>\n",
              "      <td>0.628136</td>\n",
              "      <td>0</td>\n",
              "      <td>3</td>\n",
              "      <td>5</td>\n",
              "      <td>0</td>\n",
              "      <td>12</td>\n",
              "      <td>0</td>\n",
              "      <td>0</td>\n",
              "      <td>0</td>\n",
              "      <td>3</td>\n",
              "      <td>0</td>\n",
              "      <td>0</td>\n",
              "      <td>0</td>\n",
              "      <td>0</td>\n",
              "    </tr>\n",
              "    <tr>\n",
              "      <th>...</th>\n",
              "      <td>...</td>\n",
              "      <td>...</td>\n",
              "      <td>...</td>\n",
              "      <td>...</td>\n",
              "      <td>...</td>\n",
              "      <td>...</td>\n",
              "      <td>...</td>\n",
              "      <td>...</td>\n",
              "      <td>...</td>\n",
              "      <td>...</td>\n",
              "      <td>...</td>\n",
              "      <td>...</td>\n",
              "      <td>...</td>\n",
              "      <td>...</td>\n",
              "      <td>...</td>\n",
              "      <td>...</td>\n",
              "      <td>...</td>\n",
              "      <td>...</td>\n",
              "      <td>...</td>\n",
              "      <td>...</td>\n",
              "      <td>...</td>\n",
              "      <td>...</td>\n",
              "      <td>...</td>\n",
              "      <td>...</td>\n",
              "      <td>...</td>\n",
              "      <td>...</td>\n",
              "      <td>...</td>\n",
              "      <td>...</td>\n",
              "      <td>...</td>\n",
              "      <td>...</td>\n",
              "      <td>...</td>\n",
              "      <td>...</td>\n",
              "      <td>...</td>\n",
              "      <td>...</td>\n",
              "      <td>...</td>\n",
              "      <td>...</td>\n",
              "      <td>...</td>\n",
              "      <td>...</td>\n",
              "      <td>...</td>\n",
              "      <td>...</td>\n",
              "      <td>...</td>\n",
              "      <td>...</td>\n",
              "    </tr>\n",
              "    <tr>\n",
              "      <th>7419</th>\n",
              "      <td>2020</td>\n",
              "      <td>9</td>\n",
              "      <td>SS</td>\n",
              "      <td>63435</td>\n",
              "      <td>4</td>\n",
              "      <td>3</td>\n",
              "      <td>3</td>\n",
              "      <td>4</td>\n",
              "      <td>2</td>\n",
              "      <td>2</td>\n",
              "      <td>3</td>\n",
              "      <td>4</td>\n",
              "      <td>2</td>\n",
              "      <td>0</td>\n",
              "      <td>2</td>\n",
              "      <td>0</td>\n",
              "      <td>0.000000</td>\n",
              "      <td>0.000000</td>\n",
              "      <td>0.000000</td>\n",
              "      <td>0.0</td>\n",
              "      <td>0.000000</td>\n",
              "      <td>0.000000</td>\n",
              "      <td>0.000000</td>\n",
              "      <td>0.000000</td>\n",
              "      <td>-0.368</td>\n",
              "      <td>0.000000</td>\n",
              "      <td>0.000000</td>\n",
              "      <td>0.000000</td>\n",
              "      <td>0.000000</td>\n",
              "      <td>0</td>\n",
              "      <td>0</td>\n",
              "      <td>4</td>\n",
              "      <td>2</td>\n",
              "      <td>0</td>\n",
              "      <td>13</td>\n",
              "      <td>1</td>\n",
              "      <td>0</td>\n",
              "      <td>2</td>\n",
              "      <td>0</td>\n",
              "      <td>0</td>\n",
              "      <td>0</td>\n",
              "      <td>2</td>\n",
              "    </tr>\n",
              "    <tr>\n",
              "      <th>7420</th>\n",
              "      <td>2020</td>\n",
              "      <td>9</td>\n",
              "      <td>SS</td>\n",
              "      <td>69418</td>\n",
              "      <td>0</td>\n",
              "      <td>3</td>\n",
              "      <td>3</td>\n",
              "      <td>4</td>\n",
              "      <td>2</td>\n",
              "      <td>2</td>\n",
              "      <td>3</td>\n",
              "      <td>4</td>\n",
              "      <td>2</td>\n",
              "      <td>0</td>\n",
              "      <td>2</td>\n",
              "      <td>7</td>\n",
              "      <td>0.000000</td>\n",
              "      <td>0.000000</td>\n",
              "      <td>0.000000</td>\n",
              "      <td>0.0</td>\n",
              "      <td>0.000000</td>\n",
              "      <td>0.000000</td>\n",
              "      <td>0.000000</td>\n",
              "      <td>0.000000</td>\n",
              "      <td>0.000</td>\n",
              "      <td>0.000000</td>\n",
              "      <td>0.000000</td>\n",
              "      <td>0.000000</td>\n",
              "      <td>0.000000</td>\n",
              "      <td>0</td>\n",
              "      <td>0</td>\n",
              "      <td>4</td>\n",
              "      <td>2</td>\n",
              "      <td>0</td>\n",
              "      <td>13</td>\n",
              "      <td>1</td>\n",
              "      <td>0</td>\n",
              "      <td>2</td>\n",
              "      <td>0</td>\n",
              "      <td>0</td>\n",
              "      <td>0</td>\n",
              "      <td>2</td>\n",
              "    </tr>\n",
              "    <tr>\n",
              "      <th>7421</th>\n",
              "      <td>2020</td>\n",
              "      <td>9</td>\n",
              "      <td>SS</td>\n",
              "      <td>61457</td>\n",
              "      <td>0</td>\n",
              "      <td>3</td>\n",
              "      <td>3</td>\n",
              "      <td>4</td>\n",
              "      <td>2</td>\n",
              "      <td>2</td>\n",
              "      <td>3</td>\n",
              "      <td>4</td>\n",
              "      <td>2</td>\n",
              "      <td>0</td>\n",
              "      <td>2</td>\n",
              "      <td>0</td>\n",
              "      <td>0.000000</td>\n",
              "      <td>0.000000</td>\n",
              "      <td>0.000000</td>\n",
              "      <td>0.0</td>\n",
              "      <td>0.000000</td>\n",
              "      <td>0.000000</td>\n",
              "      <td>0.000000</td>\n",
              "      <td>0.000000</td>\n",
              "      <td>0.000</td>\n",
              "      <td>0.000000</td>\n",
              "      <td>0.000000</td>\n",
              "      <td>0.000000</td>\n",
              "      <td>0.000000</td>\n",
              "      <td>0</td>\n",
              "      <td>0</td>\n",
              "      <td>4</td>\n",
              "      <td>2</td>\n",
              "      <td>0</td>\n",
              "      <td>13</td>\n",
              "      <td>1</td>\n",
              "      <td>0</td>\n",
              "      <td>2</td>\n",
              "      <td>0</td>\n",
              "      <td>0</td>\n",
              "      <td>0</td>\n",
              "      <td>2</td>\n",
              "    </tr>\n",
              "    <tr>\n",
              "      <th>7422</th>\n",
              "      <td>2020</td>\n",
              "      <td>9</td>\n",
              "      <td>HH</td>\n",
              "      <td>66707</td>\n",
              "      <td>7</td>\n",
              "      <td>0</td>\n",
              "      <td>4</td>\n",
              "      <td>2</td>\n",
              "      <td>2</td>\n",
              "      <td>2</td>\n",
              "      <td>2</td>\n",
              "      <td>5</td>\n",
              "      <td>2</td>\n",
              "      <td>3</td>\n",
              "      <td>4</td>\n",
              "      <td>8</td>\n",
              "      <td>0.000000</td>\n",
              "      <td>0.000000</td>\n",
              "      <td>0.000000</td>\n",
              "      <td>0.0</td>\n",
              "      <td>0.000000</td>\n",
              "      <td>0.000000</td>\n",
              "      <td>0.000000</td>\n",
              "      <td>0.000000</td>\n",
              "      <td>-0.662</td>\n",
              "      <td>0.000000</td>\n",
              "      <td>0.000000</td>\n",
              "      <td>0.000000</td>\n",
              "      <td>0.000000</td>\n",
              "      <td>0</td>\n",
              "      <td>0</td>\n",
              "      <td>1</td>\n",
              "      <td>2</td>\n",
              "      <td>16</td>\n",
              "      <td>2</td>\n",
              "      <td>2</td>\n",
              "      <td>2</td>\n",
              "      <td>0</td>\n",
              "      <td>0</td>\n",
              "      <td>0</td>\n",
              "      <td>0</td>\n",
              "      <td>0</td>\n",
              "    </tr>\n",
              "    <tr>\n",
              "      <th>7423</th>\n",
              "      <td>2020</td>\n",
              "      <td>9</td>\n",
              "      <td>LT</td>\n",
              "      <td>65522</td>\n",
              "      <td>0</td>\n",
              "      <td>2</td>\n",
              "      <td>5</td>\n",
              "      <td>3</td>\n",
              "      <td>6</td>\n",
              "      <td>0</td>\n",
              "      <td>5</td>\n",
              "      <td>0</td>\n",
              "      <td>2</td>\n",
              "      <td>2</td>\n",
              "      <td>2</td>\n",
              "      <td>0</td>\n",
              "      <td>0.000000</td>\n",
              "      <td>0.000000</td>\n",
              "      <td>0.000000</td>\n",
              "      <td>0.0</td>\n",
              "      <td>0.000000</td>\n",
              "      <td>0.000000</td>\n",
              "      <td>0.000000</td>\n",
              "      <td>0.000000</td>\n",
              "      <td>0.000</td>\n",
              "      <td>0.000000</td>\n",
              "      <td>0.000000</td>\n",
              "      <td>0.000000</td>\n",
              "      <td>0.000000</td>\n",
              "      <td>2</td>\n",
              "      <td>0</td>\n",
              "      <td>4</td>\n",
              "      <td>1</td>\n",
              "      <td>2</td>\n",
              "      <td>0</td>\n",
              "      <td>2</td>\n",
              "      <td>2</td>\n",
              "      <td>10</td>\n",
              "      <td>0</td>\n",
              "      <td>0</td>\n",
              "      <td>0</td>\n",
              "      <td>2</td>\n",
              "    </tr>\n",
              "  </tbody>\n",
              "</table>\n",
              "<p>7424 rows × 42 columns</p>\n",
              "</div>"
            ],
            "text/plain": [
              "      year  month T_ID   P_ID  ...  stadium_PH  stadium_US  stadium_CJ  stadium_CW\n",
              "0     2016      4   HH  60404  ...           0           0           0           0\n",
              "1     2016      4   HH  60667  ...           0           0           0           0\n",
              "2     2016      4   HH  60757  ...           0           0           0           0\n",
              "3     2016      4   HH  60805  ...           0           0           0           0\n",
              "4     2016      4   HH  61700  ...           0           0           0           0\n",
              "...    ...    ...  ...    ...  ...         ...         ...         ...         ...\n",
              "7419  2020      9   SS  63435  ...           0           0           0           2\n",
              "7420  2020      9   SS  69418  ...           0           0           0           2\n",
              "7421  2020      9   SS  61457  ...           0           0           0           2\n",
              "7422  2020      9   HH  66707  ...           0           0           0           0\n",
              "7423  2020      9   LT  65522  ...           0           0           0           2\n",
              "\n",
              "[7424 rows x 42 columns]"
            ]
          },
          "metadata": {
            "tags": []
          },
          "execution_count": 152
        }
      ]
    },
    {
      "cell_type": "code",
      "metadata": {
        "id": "9u-FF4nOYBc-"
      },
      "source": [
        "batter['G'] = batter['VS_T_ID_HH'] + batter['VS_T_ID_HT']+ batter['VS_T_ID_KT']+ batter['VS_T_ID_LG']+ batter['VS_T_ID_LT']+ batter['VS_T_ID_NC']+ batter['VS_T_ID_OB']+ batter['VS_T_ID_SK']+ batter['VS_T_ID_SS'] + batter['VS_T_ID_SS'] + batter['VS_T_ID_WO']\n",
        "batter['PA_PER_G'] = batter['PA'] / batter['G']\n",
        "batter = batter[['year', 'month', 'P_ID', 'PA_PER_G']]"
      ],
      "execution_count": null,
      "outputs": []
    },
    {
      "cell_type": "code",
      "metadata": {
        "id": "LICE3TKwYHPu"
      },
      "source": [
        "batter = batter.loc[batter.year == 2020,:]\n",
        "batter_8 = batter.loc[batter.month > 7]"
      ],
      "execution_count": null,
      "outputs": []
    },
    {
      "cell_type": "code",
      "metadata": {
        "id": "-oRYQxbttdIS"
      },
      "source": [
        "batter_PID = batter_8.P_ID.unique()"
      ],
      "execution_count": null,
      "outputs": []
    },
    {
      "cell_type": "code",
      "metadata": {
        "id": "B_xUa4XyYHqp"
      },
      "source": [
        "mean_pa = batter.groupby('P_ID').mean()\n",
        "mean_pa = mean_pa[['PA_PER_G']]\n",
        "std_pa = batter.groupby('P_ID').std()\n",
        "std_pa = std_pa[['PA_PER_G']]"
      ],
      "execution_count": null,
      "outputs": []
    },
    {
      "cell_type": "code",
      "metadata": {
        "id": "2z7JNeJNZJPi"
      },
      "source": [
        "sum_pa = batter.groupby('P_ID').sum()"
      ],
      "execution_count": null,
      "outputs": []
    },
    {
      "cell_type": "code",
      "metadata": {
        "id": "KUbPIj9WZ6nR"
      },
      "source": [
        "sum_pa = sum_pa[['PA_PER_G']]"
      ],
      "execution_count": null,
      "outputs": []
    },
    {
      "cell_type": "code",
      "metadata": {
        "id": "z6icKZYeaVTJ"
      },
      "source": [
        "sum_pa['mean_pa'] = mean_pa\n",
        "sum_pa['std_pa'] = std_pa"
      ],
      "execution_count": null,
      "outputs": []
    },
    {
      "cell_type": "code",
      "metadata": {
        "id": "59Ef9rKWbMCD"
      },
      "source": [
        "sum_pa = sum_pa.fillna(0)\n",
        "sum_pa = sum_pa[['mean_pa', 'std_pa']]"
      ],
      "execution_count": null,
      "outputs": []
    },
    {
      "cell_type": "code",
      "metadata": {
        "id": "dCBiptErbwH1"
      },
      "source": [
        "sum_pa['P_ID'] = sum_pa.index"
      ],
      "execution_count": null,
      "outputs": []
    },
    {
      "cell_type": "code",
      "metadata": {
        "id": "wLK_X_YefHJy"
      },
      "source": [
        "predict_batter = pd.DataFrame()\n",
        "\n",
        "for i in range(len(batter_PID)):\n",
        "    temp = sum_pa.loc[sum_pa.P_ID == batter_PID[i],:]\n",
        "    sampled = tfp.distributions.Normal(loc =temp.mean_pa, scale = temp.std_pa / 2).sample(1)\n",
        "    sampled = sampled.numpy()\n",
        "    sampled = np.append(batter_PID[i], sampled)\n",
        "    sampled = pd.DataFrame(sampled.reshape(1,2))\n",
        "    sampled.columns = ['P_ID', 'PA_PER_G']\n",
        "    predict_batter = predict_batter.append(sampled)\n"
      ],
      "execution_count": null,
      "outputs": []
    },
    {
      "cell_type": "code",
      "metadata": {
        "id": "0YtGPI3SiZV9"
      },
      "source": [
        "predict_batter.PA_PER_G[predict_batter.PA_PER_G < 0] = 0"
      ],
      "execution_count": null,
      "outputs": []
    },
    {
      "cell_type": "code",
      "metadata": {
        "id": "Fi2mDsByj-3z",
        "outputId": "ada6b2af-d68c-4a16-a556-284747c59156",
        "colab": {
          "base_uri": "https://localhost:8080/",
          "height": 406
        }
      },
      "source": [
        "predict_batter"
      ],
      "execution_count": null,
      "outputs": [
        {
          "output_type": "execute_result",
          "data": {
            "text/html": [
              "<div>\n",
              "<style scoped>\n",
              "    .dataframe tbody tr th:only-of-type {\n",
              "        vertical-align: middle;\n",
              "    }\n",
              "\n",
              "    .dataframe tbody tr th {\n",
              "        vertical-align: top;\n",
              "    }\n",
              "\n",
              "    .dataframe thead th {\n",
              "        text-align: right;\n",
              "    }\n",
              "</style>\n",
              "<table border=\"1\" class=\"dataframe\">\n",
              "  <thead>\n",
              "    <tr style=\"text-align: right;\">\n",
              "      <th></th>\n",
              "      <th>P_ID</th>\n",
              "      <th>PA_PER_G</th>\n",
              "    </tr>\n",
              "  </thead>\n",
              "  <tbody>\n",
              "    <tr>\n",
              "      <th>0</th>\n",
              "      <td>63202.0</td>\n",
              "      <td>0.188910</td>\n",
              "    </tr>\n",
              "    <tr>\n",
              "      <th>0</th>\n",
              "      <td>66209.0</td>\n",
              "      <td>0.133340</td>\n",
              "    </tr>\n",
              "    <tr>\n",
              "      <th>0</th>\n",
              "      <td>65462.0</td>\n",
              "      <td>0.086957</td>\n",
              "    </tr>\n",
              "    <tr>\n",
              "      <th>0</th>\n",
              "      <td>63260.0</td>\n",
              "      <td>0.874267</td>\n",
              "    </tr>\n",
              "    <tr>\n",
              "      <th>0</th>\n",
              "      <td>75151.0</td>\n",
              "      <td>1.981100</td>\n",
              "    </tr>\n",
              "    <tr>\n",
              "      <th>...</th>\n",
              "      <td>...</td>\n",
              "      <td>...</td>\n",
              "    </tr>\n",
              "    <tr>\n",
              "      <th>0</th>\n",
              "      <td>65057.0</td>\n",
              "      <td>0.000000</td>\n",
              "    </tr>\n",
              "    <tr>\n",
              "      <th>0</th>\n",
              "      <td>75340.0</td>\n",
              "      <td>0.000000</td>\n",
              "    </tr>\n",
              "    <tr>\n",
              "      <th>0</th>\n",
              "      <td>67449.0</td>\n",
              "      <td>0.200000</td>\n",
              "    </tr>\n",
              "    <tr>\n",
              "      <th>0</th>\n",
              "      <td>63435.0</td>\n",
              "      <td>0.248363</td>\n",
              "    </tr>\n",
              "    <tr>\n",
              "      <th>0</th>\n",
              "      <td>61457.0</td>\n",
              "      <td>0.000000</td>\n",
              "    </tr>\n",
              "  </tbody>\n",
              "</table>\n",
              "<p>275 rows × 2 columns</p>\n",
              "</div>"
            ],
            "text/plain": [
              "       P_ID  PA_PER_G\n",
              "0   63202.0  0.188910\n",
              "0   66209.0  0.133340\n",
              "0   65462.0  0.086957\n",
              "0   63260.0  0.874267\n",
              "0   75151.0  1.981100\n",
              "..      ...       ...\n",
              "0   65057.0  0.000000\n",
              "0   75340.0  0.000000\n",
              "0   67449.0  0.200000\n",
              "0   63435.0  0.248363\n",
              "0   61457.0  0.000000\n",
              "\n",
              "[275 rows x 2 columns]"
            ]
          },
          "metadata": {
            "tags": []
          },
          "execution_count": 229
        }
      ]
    },
    {
      "cell_type": "code",
      "metadata": {
        "id": "2FPI8QOlkHdP"
      },
      "source": [
        "predict_batter.to_csv(\"predicted_batter_pa.csv\", index= False)"
      ],
      "execution_count": null,
      "outputs": []
    },
    {
      "cell_type": "code",
      "metadata": {
        "id": "U3VdEGOHlIrf"
      },
      "source": [
        "from google.colab import files"
      ],
      "execution_count": null,
      "outputs": []
    },
    {
      "cell_type": "code",
      "metadata": {
        "id": "OMuK3u-3mNDO",
        "outputId": "906c3c2a-0d20-486d-e5ec-cba33c2143b3",
        "colab": {
          "base_uri": "https://localhost:8080/",
          "height": 16
        }
      },
      "source": [
        "files.download(\"predicted_batter_pa.csv\")"
      ],
      "execution_count": null,
      "outputs": [
        {
          "output_type": "display_data",
          "data": {
            "application/javascript": [
              "\n",
              "    async function download(id, filename, size) {\n",
              "      if (!google.colab.kernel.accessAllowed) {\n",
              "        return;\n",
              "      }\n",
              "      const div = document.createElement('div');\n",
              "      const label = document.createElement('label');\n",
              "      label.textContent = `Downloading \"${filename}\": `;\n",
              "      div.appendChild(label);\n",
              "      const progress = document.createElement('progress');\n",
              "      progress.max = size;\n",
              "      div.appendChild(progress);\n",
              "      document.body.appendChild(div);\n",
              "\n",
              "      const buffers = [];\n",
              "      let downloaded = 0;\n",
              "\n",
              "      const channel = await google.colab.kernel.comms.open(id);\n",
              "      // Send a message to notify the kernel that we're ready.\n",
              "      channel.send({})\n",
              "\n",
              "      for await (const message of channel.messages) {\n",
              "        // Send a message to notify the kernel that we're ready.\n",
              "        channel.send({})\n",
              "        if (message.buffers) {\n",
              "          for (const buffer of message.buffers) {\n",
              "            buffers.push(buffer);\n",
              "            downloaded += buffer.byteLength;\n",
              "            progress.value = downloaded;\n",
              "          }\n",
              "        }\n",
              "      }\n",
              "      const blob = new Blob(buffers, {type: 'application/binary'});\n",
              "      const a = document.createElement('a');\n",
              "      a.href = window.URL.createObjectURL(blob);\n",
              "      a.download = filename;\n",
              "      div.appendChild(a);\n",
              "      a.click();\n",
              "      div.remove();\n",
              "    }\n",
              "  "
            ],
            "text/plain": [
              "<IPython.core.display.Javascript object>"
            ]
          },
          "metadata": {
            "tags": []
          }
        },
        {
          "output_type": "display_data",
          "data": {
            "application/javascript": [
              "download(\"download_6ed87e57-fca1-4b63-a3ae-c5af6adbe586\", \"predicted_batter_pa.csv\", 6687)"
            ],
            "text/plain": [
              "<IPython.core.display.Javascript object>"
            ]
          },
          "metadata": {
            "tags": []
          }
        }
      ]
    },
    {
      "cell_type": "markdown",
      "metadata": {
        "id": "ropMNl3jmTGn"
      },
      "source": [
        "## 2. Pitcher"
      ]
    },
    {
      "cell_type": "code",
      "metadata": {
        "id": "rifzMSObnzaU"
      },
      "source": [
        "pitcher = pd.read_csv(\"https://raw.githubusercontent.com/njj06135/Baseball_ChilliShrimp/master/data/modeling_pitcher_stadium.csv\")"
      ],
      "execution_count": null,
      "outputs": []
    },
    {
      "cell_type": "code",
      "metadata": {
        "id": "_PyYkjEioPOA"
      },
      "source": [
        "pitcher['G'] = pitcher['VS_T_ID_HH'] + pitcher['VS_T_ID_HT']+ pitcher['VS_T_ID_KT']+ pitcher['VS_T_ID_LG']+ pitcher['VS_T_ID_LT']+ pitcher['VS_T_ID_NC']+ pitcher['VS_T_ID_OB']+ pitcher['VS_T_ID_SK']+ pitcher['VS_T_ID_SS'] + pitcher['VS_T_ID_SS'] + pitcher['VS_T_ID_WO']\n",
        "pitcher['PA_PER_G'] = pitcher['PA'] / pitcher['G']\n",
        "pitcher = pitcher[['year', 'month', 'P_ID', 'PA_PER_G']]"
      ],
      "execution_count": null,
      "outputs": []
    },
    {
      "cell_type": "code",
      "metadata": {
        "id": "aX_wYykBoay1"
      },
      "source": [
        "pitcher = pitcher.loc[pitcher.year == 2020,:]\n",
        "pitcher_8 = pitcher.loc[pitcher.month > 7]\n",
        "pitcher_PID = pitcher_8.P_ID.unique()"
      ],
      "execution_count": null,
      "outputs": []
    },
    {
      "cell_type": "code",
      "metadata": {
        "id": "GE4ekCVTofT9"
      },
      "source": [
        "mean_pa = pitcher.groupby('P_ID').mean()\n",
        "mean_pa = mean_pa[['PA_PER_G']]\n",
        "std_pa = pitcher.groupby('P_ID').std()\n",
        "std_pa = std_pa[['PA_PER_G']]"
      ],
      "execution_count": null,
      "outputs": []
    },
    {
      "cell_type": "code",
      "metadata": {
        "id": "6FOoUJ_ZoiRm"
      },
      "source": [
        "sum_pa = pitcher.groupby('P_ID').sum()\n",
        "sum_pa = sum_pa[['PA_PER_G']]\n",
        "sum_pa['mean_pa'] = mean_pa\n",
        "sum_pa['std_pa'] = std_pa\n",
        "sum_pa = sum_pa.fillna(0)\n",
        "sum_pa = sum_pa[['mean_pa', 'std_pa']]\n",
        "sum_pa['P_ID'] = sum_pa.index"
      ],
      "execution_count": null,
      "outputs": []
    },
    {
      "cell_type": "code",
      "metadata": {
        "id": "Rm8FVC07reJy",
        "outputId": "f896de20-373f-4b10-cd32-8b3018aab270",
        "colab": {
          "base_uri": "https://localhost:8080/",
          "height": 436
        }
      },
      "source": [
        "sum_pa"
      ],
      "execution_count": null,
      "outputs": [
        {
          "output_type": "execute_result",
          "data": {
            "text/html": [
              "<div>\n",
              "<style scoped>\n",
              "    .dataframe tbody tr th:only-of-type {\n",
              "        vertical-align: middle;\n",
              "    }\n",
              "\n",
              "    .dataframe tbody tr th {\n",
              "        vertical-align: top;\n",
              "    }\n",
              "\n",
              "    .dataframe thead th {\n",
              "        text-align: right;\n",
              "    }\n",
              "</style>\n",
              "<table border=\"1\" class=\"dataframe\">\n",
              "  <thead>\n",
              "    <tr style=\"text-align: right;\">\n",
              "      <th></th>\n",
              "      <th>mean_pa</th>\n",
              "      <th>std_pa</th>\n",
              "      <th>P_ID</th>\n",
              "    </tr>\n",
              "    <tr>\n",
              "      <th>P_ID</th>\n",
              "      <th></th>\n",
              "      <th></th>\n",
              "      <th></th>\n",
              "    </tr>\n",
              "  </thead>\n",
              "  <tbody>\n",
              "    <tr>\n",
              "      <th>50030</th>\n",
              "      <td>9.581667</td>\n",
              "      <td>8.745349</td>\n",
              "      <td>50030</td>\n",
              "    </tr>\n",
              "    <tr>\n",
              "      <th>50036</th>\n",
              "      <td>8.250000</td>\n",
              "      <td>1.767767</td>\n",
              "      <td>50036</td>\n",
              "    </tr>\n",
              "    <tr>\n",
              "      <th>50040</th>\n",
              "      <td>12.060810</td>\n",
              "      <td>8.844425</td>\n",
              "      <td>50040</td>\n",
              "    </tr>\n",
              "    <tr>\n",
              "      <th>50109</th>\n",
              "      <td>0.373219</td>\n",
              "      <td>0.310241</td>\n",
              "      <td>50109</td>\n",
              "    </tr>\n",
              "    <tr>\n",
              "      <th>50126</th>\n",
              "      <td>7.540000</td>\n",
              "      <td>8.148483</td>\n",
              "      <td>50126</td>\n",
              "    </tr>\n",
              "    <tr>\n",
              "      <th>...</th>\n",
              "      <td>...</td>\n",
              "      <td>...</td>\n",
              "      <td>...</td>\n",
              "    </tr>\n",
              "    <tr>\n",
              "      <th>79617</th>\n",
              "      <td>0.166667</td>\n",
              "      <td>0.026189</td>\n",
              "      <td>79617</td>\n",
              "    </tr>\n",
              "    <tr>\n",
              "      <th>79764</th>\n",
              "      <td>8.596713</td>\n",
              "      <td>10.946755</td>\n",
              "      <td>79764</td>\n",
              "    </tr>\n",
              "    <tr>\n",
              "      <th>79825</th>\n",
              "      <td>2.762731</td>\n",
              "      <td>2.509149</td>\n",
              "      <td>79825</td>\n",
              "    </tr>\n",
              "    <tr>\n",
              "      <th>79847</th>\n",
              "      <td>8.381481</td>\n",
              "      <td>10.583535</td>\n",
              "      <td>79847</td>\n",
              "    </tr>\n",
              "    <tr>\n",
              "      <th>99445</th>\n",
              "      <td>2.358604</td>\n",
              "      <td>2.441678</td>\n",
              "      <td>99445</td>\n",
              "    </tr>\n",
              "  </tbody>\n",
              "</table>\n",
              "<p>267 rows × 3 columns</p>\n",
              "</div>"
            ],
            "text/plain": [
              "         mean_pa     std_pa   P_ID\n",
              "P_ID                              \n",
              "50030   9.581667   8.745349  50030\n",
              "50036   8.250000   1.767767  50036\n",
              "50040  12.060810   8.844425  50040\n",
              "50109   0.373219   0.310241  50109\n",
              "50126   7.540000   8.148483  50126\n",
              "...          ...        ...    ...\n",
              "79617   0.166667   0.026189  79617\n",
              "79764   8.596713  10.946755  79764\n",
              "79825   2.762731   2.509149  79825\n",
              "79847   8.381481  10.583535  79847\n",
              "99445   2.358604   2.441678  99445\n",
              "\n",
              "[267 rows x 3 columns]"
            ]
          },
          "metadata": {
            "tags": []
          },
          "execution_count": 236
        }
      ]
    },
    {
      "cell_type": "code",
      "metadata": {
        "id": "2IOU8u8QotAM"
      },
      "source": [
        "predict_pitcher = pd.DataFrame()\n",
        "\n",
        "for i in range(len(sum_pa)):\n",
        "    sampled = tfp.distributions.Normal(loc = sum_pa.iloc[i,:].mean_pa, scale = sum_pa.iloc[i,:].std_pa / 2).sample(1)\n",
        "    sampled = sampled.numpy()\n",
        "    sampled = np.append(int(sum_pa.iloc[i,:].P_ID), sampled)\n",
        "    sampled = pd.DataFrame(sampled.reshape(1,2))\n",
        "    sampled.columns = ['P_ID', 'PA_PER_G']\n",
        "    predict_pitcher = predict_pitcher.append(sampled)"
      ],
      "execution_count": null,
      "outputs": []
    },
    {
      "cell_type": "code",
      "metadata": {
        "id": "D6t82DT4rQCD"
      },
      "source": [
        "predict_pitcher.PA_PER_G[predict_pitcher.PA_PER_G < 0] = 0"
      ],
      "execution_count": null,
      "outputs": []
    },
    {
      "cell_type": "code",
      "metadata": {
        "id": "5pjVY3HTrQ6Q"
      },
      "source": [
        "predict_pitcher.to_csv(\"predicted_pitcher_pa.csv\", index= False)"
      ],
      "execution_count": null,
      "outputs": []
    },
    {
      "cell_type": "code",
      "metadata": {
        "id": "0d3B8aZFsb0S"
      },
      "source": [
        "from google.colab import files"
      ],
      "execution_count": null,
      "outputs": []
    },
    {
      "cell_type": "code",
      "metadata": {
        "id": "Upw8VSfvsdA8",
        "outputId": "91036df7-eea9-4b4f-d685-ed3aa72bb67a",
        "colab": {
          "base_uri": "https://localhost:8080/",
          "height": 16
        }
      },
      "source": [
        "files.download(\"predicted_pitcher_pa.csv\")"
      ],
      "execution_count": null,
      "outputs": [
        {
          "output_type": "display_data",
          "data": {
            "application/javascript": [
              "\n",
              "    async function download(id, filename, size) {\n",
              "      if (!google.colab.kernel.accessAllowed) {\n",
              "        return;\n",
              "      }\n",
              "      const div = document.createElement('div');\n",
              "      const label = document.createElement('label');\n",
              "      label.textContent = `Downloading \"${filename}\": `;\n",
              "      div.appendChild(label);\n",
              "      const progress = document.createElement('progress');\n",
              "      progress.max = size;\n",
              "      div.appendChild(progress);\n",
              "      document.body.appendChild(div);\n",
              "\n",
              "      const buffers = [];\n",
              "      let downloaded = 0;\n",
              "\n",
              "      const channel = await google.colab.kernel.comms.open(id);\n",
              "      // Send a message to notify the kernel that we're ready.\n",
              "      channel.send({})\n",
              "\n",
              "      for await (const message of channel.messages) {\n",
              "        // Send a message to notify the kernel that we're ready.\n",
              "        channel.send({})\n",
              "        if (message.buffers) {\n",
              "          for (const buffer of message.buffers) {\n",
              "            buffers.push(buffer);\n",
              "            downloaded += buffer.byteLength;\n",
              "            progress.value = downloaded;\n",
              "          }\n",
              "        }\n",
              "      }\n",
              "      const blob = new Blob(buffers, {type: 'application/binary'});\n",
              "      const a = document.createElement('a');\n",
              "      a.href = window.URL.createObjectURL(blob);\n",
              "      a.download = filename;\n",
              "      div.appendChild(a);\n",
              "      a.click();\n",
              "      div.remove();\n",
              "    }\n",
              "  "
            ],
            "text/plain": [
              "<IPython.core.display.Javascript object>"
            ]
          },
          "metadata": {
            "tags": []
          }
        },
        {
          "output_type": "display_data",
          "data": {
            "application/javascript": [
              "download(\"download_14b395e5-bba9-4c7f-9020-36f571829059\", \"predicted_pitcher_pa.csv\", 6742)"
            ],
            "text/plain": [
              "<IPython.core.display.Javascript object>"
            ]
          },
          "metadata": {
            "tags": []
          }
        }
      ]
    }
  ]
}