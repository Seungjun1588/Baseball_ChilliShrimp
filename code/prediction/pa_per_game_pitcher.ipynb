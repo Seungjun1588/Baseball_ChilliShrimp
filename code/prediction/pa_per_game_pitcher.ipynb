{
 "cells": [
  {
   "cell_type": "markdown",
   "metadata": {
    "colab_type": "text",
    "id": "sAEXzkxzCEBa"
   },
   "source": [
    "# 시계열로 pitcher PA예측하기(with fbProphet) - 오태환"
   ]
  },
  {
   "cell_type": "markdown",
   "metadata": {
    "colab_type": "text",
    "id": "krwxCVp3CNSa"
   },
   "source": [
    "## 0) Importing Packages and pitcher"
   ]
  },
  {
   "cell_type": "code",
   "execution_count": 1,
   "metadata": {
    "colab": {},
    "colab_type": "code",
    "id": "CUQZ-twlAl1j"
   },
   "outputs": [],
   "source": [
    "import pandas as pd"
   ]
  },
  {
   "cell_type": "code",
   "execution_count": 5,
   "metadata": {
    "colab": {},
    "colab_type": "code",
    "id": "JmgvyZxVAtUo"
   },
   "outputs": [
    {
     "ename": "ModuleNotFoundError",
     "evalue": "No module named 'fbprophet'",
     "output_type": "error",
     "traceback": [
      "\u001b[1;31m---------------------------------------------------------------------------\u001b[0m",
      "\u001b[1;31mModuleNotFoundError\u001b[0m                       Traceback (most recent call last)",
      "\u001b[1;32m<ipython-input-5-6477b7bf5912>\u001b[0m in \u001b[0;36m<module>\u001b[1;34m\u001b[0m\n\u001b[1;32m----> 1\u001b[1;33m \u001b[1;32mfrom\u001b[0m \u001b[0mfbprophet\u001b[0m \u001b[1;32mimport\u001b[0m \u001b[0mProphet\u001b[0m\u001b[1;33m\u001b[0m\u001b[1;33m\u001b[0m\u001b[0m\n\u001b[0m\u001b[0;32m      2\u001b[0m \u001b[1;32mimport\u001b[0m \u001b[0mdatetime\u001b[0m\u001b[1;33m\u001b[0m\u001b[1;33m\u001b[0m\u001b[0m\n",
      "\u001b[1;31mModuleNotFoundError\u001b[0m: No module named 'fbprophet'"
     ]
    }
   ],
   "source": [
    "from fbprophet import Prophet\n",
    "import datetime"
   ]
  },
  {
   "cell_type": "code",
   "execution_count": null,
   "metadata": {
    "colab": {},
    "colab_type": "code",
    "id": "g7DkLIpCuONm"
   },
   "outputs": [],
   "source": [
    "df = pd.read_csv(\"https://raw.githubusercontent.com/njj06135/Baseball_ChilliShrimp/master/data/games_merged.csv\")"
   ]
  },
  {
   "cell_type": "code",
   "execution_count": null,
   "metadata": {
    "colab": {},
    "colab_type": "code",
    "id": "sZj3VwycyDAq"
   },
   "outputs": [],
   "source": [
    "df['G'] = df['HOME_G'] + df['VISIT_G']"
   ]
  },
  {
   "cell_type": "code",
   "execution_count": null,
   "metadata": {
    "colab": {},
    "colab_type": "code",
    "id": "REjO-dQK6VGj"
   },
   "outputs": [],
   "source": [
    "df['PA_PER_G'] = df['PA'] / df['G']"
   ]
  },
  {
   "cell_type": "code",
   "execution_count": null,
   "metadata": {
    "colab": {},
    "colab_type": "code",
    "id": "ZIuBU5kBCezS"
   },
   "outputs": [],
   "source": [
    "df = df[['year', 'month', 'P_ID', 'PA_PER_G']]"
   ]
  },
  {
   "cell_type": "code",
   "execution_count": null,
   "metadata": {
    "colab": {},
    "colab_type": "code",
    "id": "_RjMpTpe6dE_"
   },
   "outputs": [],
   "source": [
    "df = df.loc[df.month > 4 ,:]"
   ]
  },
  {
   "cell_type": "code",
   "execution_count": null,
   "metadata": {
    "colab": {},
    "colab_type": "code",
    "id": "-mLh--KbYVZJ"
   },
   "outputs": [],
   "source": [
    "df = df.loc[df.month < 10,:]"
   ]
  },
  {
   "cell_type": "code",
   "execution_count": null,
   "metadata": {
    "colab": {},
    "colab_type": "code",
    "id": "VJDPcGpIDzZS"
   },
   "outputs": [],
   "source": [
    "pplayer = df.loc[df.year == 2020,:]"
   ]
  },
  {
   "cell_type": "code",
   "execution_count": null,
   "metadata": {
    "colab": {},
    "colab_type": "code",
    "id": "CEnLmAi1F1s7"
   },
   "outputs": [],
   "source": [
    "df['ds'] = df.agg(lambda x: f\"{int(x['year'])}-{int(x['month'])}-30\", axis=1)"
   ]
  },
  {
   "cell_type": "code",
   "execution_count": null,
   "metadata": {
    "colab": {},
    "colab_type": "code",
    "id": "9PCH7uPEuljD"
   },
   "outputs": [],
   "source": [
    "df"
   ]
  },
  {
   "cell_type": "code",
   "execution_count": null,
   "metadata": {
    "colab": {},
    "colab_type": "code",
    "id": "Hgg49ZGEDoiW"
   },
   "outputs": [],
   "source": [
    "len(pplayer)"
   ]
  },
  {
   "cell_type": "code",
   "execution_count": null,
   "metadata": {
    "colab": {},
    "colab_type": "code",
    "id": "GHyhElxLC0be"
   },
   "outputs": [],
   "source": [
    "pplayer = pplayer['P_ID'].unique()"
   ]
  },
  {
   "cell_type": "code",
   "execution_count": null,
   "metadata": {
    "colab": {},
    "colab_type": "code",
    "id": "Pl_5Gm-7xU_8"
   },
   "outputs": [],
   "source": [
    "pplayer"
   ]
  },
  {
   "cell_type": "code",
   "execution_count": null,
   "metadata": {
    "colab": {},
    "colab_type": "code",
    "id": "9R4n1EBWFWCN"
   },
   "outputs": [],
   "source": [
    "import numpy as np"
   ]
  },
  {
   "cell_type": "code",
   "execution_count": null,
   "metadata": {
    "colab": {},
    "colab_type": "code",
    "id": "aPIdcmRG-QjA"
   },
   "outputs": [],
   "source": [
    "predicted = pd.DataFrame()\n",
    "\n",
    "for i in range(len(pplayer)):\n",
    "    print(\"process : \", i/len(pplayer))\n",
    "    temp = df[df['P_ID'].isin([pplayer[i]])]\n",
    "    temp['y'] = temp['PA_PER_G']\n",
    "    temp = temp[['ds', 'y']]\n",
    "    temp['floor'] = 0\n",
    "    temp.fillna(0)\n",
    "    if len(temp) > 2:\n",
    "        m = Prophet(seasonality_mode='multiplicative', mcmc_samples=300).fit(temp)\n",
    "        future = m.make_future_dataframe(periods=3, freq='M')\n",
    "        future['floor'] = 0\n",
    "        fcst = m.predict(future)\n",
    "        fcst = fcst[fcst.ds > '2020-07-01']\n",
    "        fcst['PA_PER_G'] = fcst['yhat']\n",
    "        fcst['P_ID'] = pplayer[i]\n",
    "        fcst = fcst[['ds','P_ID', 'PA_PER_G']]\n",
    "        fcst = pd.DataFrame(fcst)\n",
    "        fcst = fcst.reset_index(drop = True)\n",
    "        fcst.PA_PER_G[fcst.PA_PER_G > np.max(temp['y'])] = np.max(temp['y'])\n",
    "        last = fcst.iloc[-1][-1]\n",
    "        octo = pd.DataFrame(['2020-10-31', pplayer[i],last])\n",
    "        octo = np.transpose(octo)\n",
    "        octo.columns = ['ds', 'P_ID', 'PA_PER_G']\n",
    "        fcst = fcst.append(octo)\n",
    "        fcst = fcst.reset_index(drop = True)\n",
    "        predicted = predicted.append(fcst, ignore_index=True)\n",
    "    else:\n",
    "        ds = pd.DataFrame(['2020-07-31', '2020-08-31', '2020-09-30', '2020-10-31'])\n",
    "        ds['P_ID'] = pplayer[i]\n",
    "        ds['PA_PER_G'] = np.mean(temp['y'])\n",
    "        ds.columns = ['ds', 'P_ID', 'PA_PER_G']\n",
    "        predicted = predicted.append(ds, ignore_index=True)\n",
    "        "
   ]
  },
  {
   "cell_type": "code",
   "execution_count": null,
   "metadata": {
    "colab": {},
    "colab_type": "code",
    "id": "N9V1SREr3QPq"
   },
   "outputs": [],
   "source": [
    "import numpy as np"
   ]
  },
  {
   "cell_type": "code",
   "execution_count": null,
   "metadata": {
    "colab": {},
    "colab_type": "code",
    "id": "D6M1tGuJAh4d"
   },
   "outputs": [],
   "source": [
    "predicted"
   ]
  },
  {
   "cell_type": "code",
   "execution_count": null,
   "metadata": {
    "colab": {},
    "colab_type": "code",
    "id": "szxsBM_kA1TC"
   },
   "outputs": [],
   "source": [
    "predicted.PA_PER_G[predicted.PA_PER_G < 0] = 0"
   ]
  },
  {
   "cell_type": "code",
   "execution_count": null,
   "metadata": {
    "colab": {},
    "colab_type": "code",
    "id": "v3Y-jR-XWA3N"
   },
   "outputs": [],
   "source": [
    "predicted"
   ]
  },
  {
   "cell_type": "code",
   "execution_count": null,
   "metadata": {
    "colab": {},
    "colab_type": "code",
    "id": "qXw5odl7WXFn"
   },
   "outputs": [],
   "source": [
    "!ls '/content/drive/'"
   ]
  },
  {
   "cell_type": "code",
   "execution_count": null,
   "metadata": {
    "colab": {},
    "colab_type": "code",
    "id": "hmYudoc-W8a8"
   },
   "outputs": [],
   "source": [
    "from google.colab import drive\n",
    "drive.mount('/content/drive')"
   ]
  },
  {
   "cell_type": "code",
   "execution_count": null,
   "metadata": {
    "colab": {},
    "colab_type": "code",
    "id": "Gt053S_kXAqR"
   },
   "outputs": [],
   "source": [
    "!ls '/content/drive/'"
   ]
  },
  {
   "cell_type": "code",
   "execution_count": null,
   "metadata": {
    "colab": {},
    "colab_type": "code",
    "id": "0zxidBfUXTFy"
   },
   "outputs": [],
   "source": [
    "!mkdir -p '/content/drive/My Drive/bigcon'\n",
    "!ls -Fcal '/content/drive/My Drive/bigcon'"
   ]
  },
  {
   "cell_type": "code",
   "execution_count": null,
   "metadata": {
    "colab": {},
    "colab_type": "code",
    "id": "slUUiEs-PS0f"
   },
   "outputs": [],
   "source": [
    "!ls -Fcal '/content/drive/My Drive/bigcon'"
   ]
  },
  {
   "cell_type": "code",
   "execution_count": null,
   "metadata": {
    "colab": {},
    "colab_type": "code",
    "id": "_cCg7MZGXMJh"
   },
   "outputs": [],
   "source": [
    "predicted.to_csv(\"/content/drive/My Drive/bigcon/predicted_pa_per_g.csv\", index = False)"
   ]
  },
  {
   "cell_type": "code",
   "execution_count": null,
   "metadata": {
    "colab": {},
    "colab_type": "code",
    "id": "gcr1zYnUXO_-"
   },
   "outputs": [],
   "source": [
    "predicted.to_csv(\"predicted_pa_per_g.csv\", index = False)"
   ]
  },
  {
   "cell_type": "code",
   "execution_count": null,
   "metadata": {
    "colab": {},
    "colab_type": "code",
    "id": "KxQrrQ1aPHjp"
   },
   "outputs": [],
   "source": [
    "from google.colab import files"
   ]
  },
  {
   "cell_type": "code",
   "execution_count": null,
   "metadata": {
    "colab": {},
    "colab_type": "code",
    "id": "GGj3-3y6RmZl"
   },
   "outputs": [],
   "source": [
    "files.download(\"predicted_pa_per_g.csv\")"
   ]
  },
  {
   "cell_type": "code",
   "execution_count": null,
   "metadata": {
    "colab": {},
    "colab_type": "code",
    "id": "kGKl6i3MUNUi"
   },
   "outputs": [],
   "source": [
    "np.where(pplayer == 64300)"
   ]
  },
  {
   "cell_type": "code",
   "execution_count": null,
   "metadata": {
    "colab": {},
    "colab_type": "code",
    "id": "bc6lRw_5b8Xo"
   },
   "outputs": [],
   "source": [
    "np.max(temp['y'])"
   ]
  },
  {
   "cell_type": "code",
   "execution_count": null,
   "metadata": {
    "colab": {},
    "colab_type": "code",
    "id": "rnsgIU42RtIn"
   },
   "outputs": [],
   "source": [
    "temp = df[df['P_ID'].isin([pplayer[199]])]\n",
    "temp['y'] = temp['PA_PER_G']\n",
    "temp = temp[['ds', 'y']]\n",
    "\n",
    "temp.fillna(0)\n",
    "\n",
    "m = Prophet(mcmc_samples=300).fit(temp)\n",
    "future = m.make_future_dataframe(periods=3, freq='M')\n",
    "\n",
    "fcst = m.predict(future)\n",
    "\n",
    "m.plot(fcst)"
   ]
  },
  {
   "cell_type": "code",
   "execution_count": null,
   "metadata": {
    "colab": {},
    "colab_type": "code",
    "id": "_YHzTnqwU2G_"
   },
   "outputs": [],
   "source": [
    "fcst = fcst[fcst.ds > '2020-07-01']\n",
    "fcst['PA_PER_G'] = fcst['yhat']\n",
    "fcst['P_ID'] = pplayer[i]\n",
    "fcst = fcst[['ds','P_ID', 'PA_PER_G']]\n",
    "fcst = pd.DataFrame(fcst)\n",
    "fcst = fcst.reset_index(drop = True)\n",
    "fcst.PA_PER_G[fcst.PA_PER_G > np.max(temp['y'])] = np.max(temp['y'])"
   ]
  },
  {
   "cell_type": "code",
   "execution_count": null,
   "metadata": {
    "colab": {},
    "colab_type": "code",
    "id": "9qWtGAA8cwA4"
   },
   "outputs": [],
   "source": [
    "last = fcst.iloc[3][2]"
   ]
  },
  {
   "cell_type": "code",
   "execution_count": null,
   "metadata": {
    "colab": {},
    "colab_type": "code",
    "id": "FqGNEgxxbZAM"
   },
   "outputs": [],
   "source": [
    "octo = pd.DataFrame(['2020-10-31', pplayer[199],last])\n",
    "octo = np.transpose(octo)\n",
    "octo.columns = ['ds', 'P_ID', 'PA_PER_G']"
   ]
  },
  {
   "cell_type": "code",
   "execution_count": null,
   "metadata": {
    "colab": {},
    "colab_type": "code",
    "id": "cXJfYDXXdCCe"
   },
   "outputs": [],
   "source": [
    "fcst.append(octo)"
   ]
  },
  {
   "cell_type": "code",
   "execution_count": null,
   "metadata": {
    "colab": {},
    "colab_type": "code",
    "id": "Y5R35yNjhUJF"
   },
   "outputs": [],
   "source": []
  }
 ],
 "metadata": {
  "colab": {
   "authorship_tag": "ABX9TyOtJnQVVcvsjAVfXQdI/ahZ",
   "collapsed_sections": [],
   "name": "시계열로 PA 예측하기",
   "private_outputs": true,
   "provenance": []
  },
  "kernelspec": {
   "display_name": "Python 3",
   "language": "python",
   "name": "python3"
  },
  "language_info": {
   "codemirror_mode": {
    "name": "ipython",
    "version": 3
   },
   "file_extension": ".py",
   "mimetype": "text/x-python",
   "name": "python",
   "nbconvert_exporter": "python",
   "pygments_lexer": "ipython3",
   "version": "3.7.7"
  }
 },
 "nbformat": 4,
 "nbformat_minor": 1
}
